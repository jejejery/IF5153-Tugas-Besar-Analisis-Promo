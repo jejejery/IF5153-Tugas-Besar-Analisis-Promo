{
 "cells": [
  {
   "cell_type": "code",
   "execution_count": null,
   "metadata": {
    "colab": {
     "base_uri": "https://localhost:8080/"
    },
    "id": "IgmQp2lhJzzF",
    "outputId": "021f254c-7d49-46c6-a705-1e0a5226e74b"
   },
   "outputs": [
    {
     "name": "stdout",
     "output_type": "stream",
     "text": [
      "\u001b[33mWARNING: Skipping tensorflow as it is not installed.\u001b[0m\u001b[33m\n",
      "\u001b[0mFound existing installation: transformers 4.47.0\n",
      "Uninstalling transformers-4.47.0:\n",
      "  Successfully uninstalled transformers-4.47.0\n",
      "Found existing installation: torch 2.5.1\n",
      "Uninstalling torch-2.5.1:\n",
      "  Successfully uninstalled torch-2.5.1\n",
      "\u001b[33mWARNING: Skipping tensorflow-estimator as it is not installed.\u001b[0m\u001b[33m\n",
      "\u001b[0mCollecting torch\n",
      "  Using cached torch-2.5.1-cp310-cp310-manylinux1_x86_64.whl.metadata (28 kB)\n",
      "Requirement already satisfied: filelock in /usr/local/lib/python3.10/dist-packages (from torch) (3.16.1)\n",
      "Requirement already satisfied: typing-extensions>=4.8.0 in /usr/local/lib/python3.10/dist-packages (from torch) (4.12.2)\n",
      "Requirement already satisfied: networkx in /usr/local/lib/python3.10/dist-packages (from torch) (3.4.2)\n",
      "Requirement already satisfied: jinja2 in /usr/local/lib/python3.10/dist-packages (from torch) (3.1.4)\n",
      "Requirement already satisfied: fsspec in /usr/local/lib/python3.10/dist-packages (from torch) (2024.9.0)\n",
      "Requirement already satisfied: nvidia-cuda-nvrtc-cu12==12.4.127 in /usr/local/lib/python3.10/dist-packages (from torch) (12.4.127)\n",
      "Requirement already satisfied: nvidia-cuda-runtime-cu12==12.4.127 in /usr/local/lib/python3.10/dist-packages (from torch) (12.4.127)\n",
      "Requirement already satisfied: nvidia-cuda-cupti-cu12==12.4.127 in /usr/local/lib/python3.10/dist-packages (from torch) (12.4.127)\n",
      "Requirement already satisfied: nvidia-cudnn-cu12==9.1.0.70 in /usr/local/lib/python3.10/dist-packages (from torch) (9.1.0.70)\n",
      "Requirement already satisfied: nvidia-cublas-cu12==12.4.5.8 in /usr/local/lib/python3.10/dist-packages (from torch) (12.4.5.8)\n",
      "Requirement already satisfied: nvidia-cufft-cu12==11.2.1.3 in /usr/local/lib/python3.10/dist-packages (from torch) (11.2.1.3)\n",
      "Requirement already satisfied: nvidia-curand-cu12==10.3.5.147 in /usr/local/lib/python3.10/dist-packages (from torch) (10.3.5.147)\n",
      "Requirement already satisfied: nvidia-cusolver-cu12==11.6.1.9 in /usr/local/lib/python3.10/dist-packages (from torch) (11.6.1.9)\n",
      "Requirement already satisfied: nvidia-cusparse-cu12==12.3.1.170 in /usr/local/lib/python3.10/dist-packages (from torch) (12.3.1.170)\n",
      "Requirement already satisfied: nvidia-nccl-cu12==2.21.5 in /usr/local/lib/python3.10/dist-packages (from torch) (2.21.5)\n",
      "Requirement already satisfied: nvidia-nvtx-cu12==12.4.127 in /usr/local/lib/python3.10/dist-packages (from torch) (12.4.127)\n",
      "Requirement already satisfied: nvidia-nvjitlink-cu12==12.4.127 in /usr/local/lib/python3.10/dist-packages (from torch) (12.4.127)\n",
      "Requirement already satisfied: triton==3.1.0 in /usr/local/lib/python3.10/dist-packages (from torch) (3.1.0)\n",
      "Requirement already satisfied: sympy==1.13.1 in /usr/local/lib/python3.10/dist-packages (from torch) (1.13.1)\n",
      "Requirement already satisfied: mpmath<1.4,>=1.1.0 in /usr/local/lib/python3.10/dist-packages (from sympy==1.13.1->torch) (1.3.0)\n",
      "Requirement already satisfied: MarkupSafe>=2.0 in /usr/local/lib/python3.10/dist-packages (from jinja2->torch) (3.0.2)\n",
      "Using cached torch-2.5.1-cp310-cp310-manylinux1_x86_64.whl (906.4 MB)\n",
      "Installing collected packages: torch\n",
      "\u001b[31mERROR: pip's dependency resolver does not currently take into account all the packages that are installed. This behaviour is the source of the following dependency conflicts.\n",
      "peft 0.13.2 requires transformers, which is not installed.\n",
      "sentence-transformers 3.2.1 requires transformers<5.0.0,>=4.41.0, which is not installed.\u001b[0m\u001b[31m\n",
      "\u001b[0mSuccessfully installed torch-2.5.1\n",
      "Collecting transformers\n",
      "  Using cached transformers-4.47.0-py3-none-any.whl.metadata (43 kB)\n",
      "Requirement already satisfied: filelock in /usr/local/lib/python3.10/dist-packages (from transformers) (3.16.1)\n",
      "Requirement already satisfied: huggingface-hub<1.0,>=0.24.0 in /usr/local/lib/python3.10/dist-packages (from transformers) (0.26.3)\n",
      "Requirement already satisfied: numpy>=1.17 in /usr/local/lib/python3.10/dist-packages (from transformers) (1.26.4)\n",
      "Requirement already satisfied: packaging>=20.0 in /usr/local/lib/python3.10/dist-packages (from transformers) (24.2)\n",
      "Requirement already satisfied: pyyaml>=5.1 in /usr/local/lib/python3.10/dist-packages (from transformers) (6.0.2)\n",
      "Requirement already satisfied: regex!=2019.12.17 in /usr/local/lib/python3.10/dist-packages (from transformers) (2024.9.11)\n",
      "Requirement already satisfied: requests in /usr/local/lib/python3.10/dist-packages (from transformers) (2.32.3)\n",
      "Requirement already satisfied: tokenizers<0.22,>=0.21 in /usr/local/lib/python3.10/dist-packages (from transformers) (0.21.0)\n",
      "Requirement already satisfied: safetensors>=0.4.1 in /usr/local/lib/python3.10/dist-packages (from transformers) (0.4.5)\n",
      "Requirement already satisfied: tqdm>=4.27 in /usr/local/lib/python3.10/dist-packages (from transformers) (4.66.6)\n",
      "Requirement already satisfied: fsspec>=2023.5.0 in /usr/local/lib/python3.10/dist-packages (from huggingface-hub<1.0,>=0.24.0->transformers) (2024.9.0)\n",
      "Requirement already satisfied: typing-extensions>=3.7.4.3 in /usr/local/lib/python3.10/dist-packages (from huggingface-hub<1.0,>=0.24.0->transformers) (4.12.2)\n",
      "Requirement already satisfied: charset-normalizer<4,>=2 in /usr/local/lib/python3.10/dist-packages (from requests->transformers) (3.4.0)\n",
      "Requirement already satisfied: idna<4,>=2.5 in /usr/local/lib/python3.10/dist-packages (from requests->transformers) (3.10)\n",
      "Requirement already satisfied: urllib3<3,>=1.21.1 in /usr/local/lib/python3.10/dist-packages (from requests->transformers) (2.2.3)\n",
      "Requirement already satisfied: certifi>=2017.4.17 in /usr/local/lib/python3.10/dist-packages (from requests->transformers) (2024.8.30)\n",
      "Using cached transformers-4.47.0-py3-none-any.whl (10.1 MB)\n",
      "Installing collected packages: transformers\n",
      "Successfully installed transformers-4.47.0\n",
      "Collecting tensorflow\n",
      "  Using cached tensorflow-2.18.0-cp310-cp310-manylinux_2_17_x86_64.manylinux2014_x86_64.whl.metadata (4.1 kB)\n",
      "Requirement already satisfied: absl-py>=1.0.0 in /usr/local/lib/python3.10/dist-packages (from tensorflow) (1.4.0)\n",
      "Requirement already satisfied: astunparse>=1.6.0 in /usr/local/lib/python3.10/dist-packages (from tensorflow) (1.6.3)\n",
      "Requirement already satisfied: flatbuffers>=24.3.25 in /usr/local/lib/python3.10/dist-packages (from tensorflow) (24.3.25)\n",
      "Requirement already satisfied: gast!=0.5.0,!=0.5.1,!=0.5.2,>=0.2.1 in /usr/local/lib/python3.10/dist-packages (from tensorflow) (0.6.0)\n",
      "Requirement already satisfied: google-pasta>=0.1.1 in /usr/local/lib/python3.10/dist-packages (from tensorflow) (0.2.0)\n",
      "Requirement already satisfied: libclang>=13.0.0 in /usr/local/lib/python3.10/dist-packages (from tensorflow) (18.1.1)\n",
      "Requirement already satisfied: opt-einsum>=2.3.2 in /usr/local/lib/python3.10/dist-packages (from tensorflow) (3.4.0)\n",
      "Requirement already satisfied: packaging in /usr/local/lib/python3.10/dist-packages (from tensorflow) (24.2)\n",
      "Requirement already satisfied: protobuf!=4.21.0,!=4.21.1,!=4.21.2,!=4.21.3,!=4.21.4,!=4.21.5,<6.0.0dev,>=3.20.3 in /usr/local/lib/python3.10/dist-packages (from tensorflow) (4.25.5)\n",
      "Requirement already satisfied: requests<3,>=2.21.0 in /usr/local/lib/python3.10/dist-packages (from tensorflow) (2.32.3)\n",
      "Requirement already satisfied: setuptools in /usr/local/lib/python3.10/dist-packages (from tensorflow) (75.1.0)\n",
      "Requirement already satisfied: six>=1.12.0 in /usr/local/lib/python3.10/dist-packages (from tensorflow) (1.16.0)\n",
      "Requirement already satisfied: termcolor>=1.1.0 in /usr/local/lib/python3.10/dist-packages (from tensorflow) (2.5.0)\n",
      "Requirement already satisfied: typing-extensions>=3.6.6 in /usr/local/lib/python3.10/dist-packages (from tensorflow) (4.12.2)\n",
      "Requirement already satisfied: wrapt>=1.11.0 in /usr/local/lib/python3.10/dist-packages (from tensorflow) (1.17.0)\n",
      "Requirement already satisfied: grpcio<2.0,>=1.24.3 in /usr/local/lib/python3.10/dist-packages (from tensorflow) (1.68.1)\n",
      "Requirement already satisfied: tensorboard<2.19,>=2.18 in /usr/local/lib/python3.10/dist-packages (from tensorflow) (2.18.0)\n",
      "Requirement already satisfied: keras>=3.5.0 in /usr/local/lib/python3.10/dist-packages (from tensorflow) (3.5.0)\n",
      "Requirement already satisfied: numpy<2.1.0,>=1.26.0 in /usr/local/lib/python3.10/dist-packages (from tensorflow) (1.26.4)\n",
      "Requirement already satisfied: h5py>=3.11.0 in /usr/local/lib/python3.10/dist-packages (from tensorflow) (3.12.1)\n",
      "Requirement already satisfied: ml-dtypes<0.5.0,>=0.4.0 in /usr/local/lib/python3.10/dist-packages (from tensorflow) (0.4.1)\n",
      "Requirement already satisfied: tensorflow-io-gcs-filesystem>=0.23.1 in /usr/local/lib/python3.10/dist-packages (from tensorflow) (0.37.1)\n",
      "Requirement already satisfied: wheel<1.0,>=0.23.0 in /usr/local/lib/python3.10/dist-packages (from astunparse>=1.6.0->tensorflow) (0.45.1)\n",
      "Requirement already satisfied: rich in /usr/local/lib/python3.10/dist-packages (from keras>=3.5.0->tensorflow) (13.9.4)\n",
      "Requirement already satisfied: namex in /usr/local/lib/python3.10/dist-packages (from keras>=3.5.0->tensorflow) (0.0.8)\n",
      "Requirement already satisfied: optree in /usr/local/lib/python3.10/dist-packages (from keras>=3.5.0->tensorflow) (0.13.1)\n",
      "Requirement already satisfied: charset-normalizer<4,>=2 in /usr/local/lib/python3.10/dist-packages (from requests<3,>=2.21.0->tensorflow) (3.4.0)\n",
      "Requirement already satisfied: idna<4,>=2.5 in /usr/local/lib/python3.10/dist-packages (from requests<3,>=2.21.0->tensorflow) (3.10)\n",
      "Requirement already satisfied: urllib3<3,>=1.21.1 in /usr/local/lib/python3.10/dist-packages (from requests<3,>=2.21.0->tensorflow) (2.2.3)\n",
      "Requirement already satisfied: certifi>=2017.4.17 in /usr/local/lib/python3.10/dist-packages (from requests<3,>=2.21.0->tensorflow) (2024.8.30)\n",
      "Requirement already satisfied: markdown>=2.6.8 in /usr/local/lib/python3.10/dist-packages (from tensorboard<2.19,>=2.18->tensorflow) (3.7)\n",
      "Requirement already satisfied: tensorboard-data-server<0.8.0,>=0.7.0 in /usr/local/lib/python3.10/dist-packages (from tensorboard<2.19,>=2.18->tensorflow) (0.7.2)\n",
      "Requirement already satisfied: werkzeug>=1.0.1 in /usr/local/lib/python3.10/dist-packages (from tensorboard<2.19,>=2.18->tensorflow) (3.1.3)\n",
      "Requirement already satisfied: MarkupSafe>=2.1.1 in /usr/local/lib/python3.10/dist-packages (from werkzeug>=1.0.1->tensorboard<2.19,>=2.18->tensorflow) (3.0.2)\n",
      "Requirement already satisfied: markdown-it-py>=2.2.0 in /usr/local/lib/python3.10/dist-packages (from rich->keras>=3.5.0->tensorflow) (3.0.0)\n",
      "Requirement already satisfied: pygments<3.0.0,>=2.13.0 in /usr/local/lib/python3.10/dist-packages (from rich->keras>=3.5.0->tensorflow) (2.18.0)\n",
      "Requirement already satisfied: mdurl~=0.1 in /usr/local/lib/python3.10/dist-packages (from markdown-it-py>=2.2.0->rich->keras>=3.5.0->tensorflow) (0.1.2)\n",
      "Using cached tensorflow-2.18.0-cp310-cp310-manylinux_2_17_x86_64.manylinux2014_x86_64.whl (615.3 MB)\n",
      "Installing collected packages: tensorflow\n",
      "\u001b[31mERROR: pip's dependency resolver does not currently take into account all the packages that are installed. This behaviour is the source of the following dependency conflicts.\n",
      "tf-keras 2.17.0 requires tensorflow<2.18,>=2.17, but you have tensorflow 2.18.0 which is incompatible.\u001b[0m\u001b[31m\n",
      "\u001b[0mSuccessfully installed tensorflow-2.18.0\n"
     ]
    }
   ],
   "source": [
    "!pip uninstall -y tensorflow transformers torch tensorflow-estimator\n",
    "!pip install torch\n",
    "!pip install transformers\n",
    "!pip install tensorflow"
   ]
  },
  {
   "cell_type": "code",
   "execution_count": null,
   "metadata": {
    "colab": {
     "base_uri": "https://localhost:8080/"
    },
    "id": "G7GbhdvPfe22",
    "outputId": "bdca5a7e-bf1e-46c8-ed07-fb1153ca57f8"
   },
   "outputs": [
    {
     "name": "stdout",
     "output_type": "stream",
     "text": [
      "Requirement already satisfied: datasets in /usr/local/lib/python3.10/dist-packages (3.2.0)\n",
      "Requirement already satisfied: filelock in /usr/local/lib/python3.10/dist-packages (from datasets) (3.16.1)\n",
      "Requirement already satisfied: numpy>=1.17 in /usr/local/lib/python3.10/dist-packages (from datasets) (1.26.4)\n",
      "Requirement already satisfied: pyarrow>=15.0.0 in /usr/local/lib/python3.10/dist-packages (from datasets) (17.0.0)\n",
      "Requirement already satisfied: dill<0.3.9,>=0.3.0 in /usr/local/lib/python3.10/dist-packages (from datasets) (0.3.8)\n",
      "Requirement already satisfied: pandas in /usr/local/lib/python3.10/dist-packages (from datasets) (2.2.2)\n",
      "Requirement already satisfied: requests>=2.32.2 in /usr/local/lib/python3.10/dist-packages (from datasets) (2.32.3)\n",
      "Requirement already satisfied: tqdm>=4.66.3 in /usr/local/lib/python3.10/dist-packages (from datasets) (4.66.6)\n",
      "Requirement already satisfied: xxhash in /usr/local/lib/python3.10/dist-packages (from datasets) (3.5.0)\n",
      "Requirement already satisfied: multiprocess<0.70.17 in /usr/local/lib/python3.10/dist-packages (from datasets) (0.70.16)\n",
      "Requirement already satisfied: fsspec<=2024.9.0,>=2023.1.0 in /usr/local/lib/python3.10/dist-packages (from fsspec[http]<=2024.9.0,>=2023.1.0->datasets) (2024.9.0)\n",
      "Requirement already satisfied: aiohttp in /usr/local/lib/python3.10/dist-packages (from datasets) (3.11.9)\n",
      "Requirement already satisfied: huggingface-hub>=0.23.0 in /usr/local/lib/python3.10/dist-packages (from datasets) (0.26.3)\n",
      "Requirement already satisfied: packaging in /usr/local/lib/python3.10/dist-packages (from datasets) (24.2)\n",
      "Requirement already satisfied: pyyaml>=5.1 in /usr/local/lib/python3.10/dist-packages (from datasets) (6.0.2)\n",
      "Requirement already satisfied: aiohappyeyeballs>=2.3.0 in /usr/local/lib/python3.10/dist-packages (from aiohttp->datasets) (2.4.4)\n",
      "Requirement already satisfied: aiosignal>=1.1.2 in /usr/local/lib/python3.10/dist-packages (from aiohttp->datasets) (1.3.1)\n",
      "Requirement already satisfied: async-timeout<6.0,>=4.0 in /usr/local/lib/python3.10/dist-packages (from aiohttp->datasets) (4.0.3)\n",
      "Requirement already satisfied: attrs>=17.3.0 in /usr/local/lib/python3.10/dist-packages (from aiohttp->datasets) (24.2.0)\n",
      "Requirement already satisfied: frozenlist>=1.1.1 in /usr/local/lib/python3.10/dist-packages (from aiohttp->datasets) (1.5.0)\n",
      "Requirement already satisfied: multidict<7.0,>=4.5 in /usr/local/lib/python3.10/dist-packages (from aiohttp->datasets) (6.1.0)\n",
      "Requirement already satisfied: propcache>=0.2.0 in /usr/local/lib/python3.10/dist-packages (from aiohttp->datasets) (0.2.1)\n",
      "Requirement already satisfied: yarl<2.0,>=1.17.0 in /usr/local/lib/python3.10/dist-packages (from aiohttp->datasets) (1.18.3)\n",
      "Requirement already satisfied: typing-extensions>=3.7.4.3 in /usr/local/lib/python3.10/dist-packages (from huggingface-hub>=0.23.0->datasets) (4.12.2)\n",
      "Requirement already satisfied: charset-normalizer<4,>=2 in /usr/local/lib/python3.10/dist-packages (from requests>=2.32.2->datasets) (3.4.0)\n",
      "Requirement already satisfied: idna<4,>=2.5 in /usr/local/lib/python3.10/dist-packages (from requests>=2.32.2->datasets) (3.10)\n",
      "Requirement already satisfied: urllib3<3,>=1.21.1 in /usr/local/lib/python3.10/dist-packages (from requests>=2.32.2->datasets) (2.2.3)\n",
      "Requirement already satisfied: certifi>=2017.4.17 in /usr/local/lib/python3.10/dist-packages (from requests>=2.32.2->datasets) (2024.8.30)\n",
      "Requirement already satisfied: python-dateutil>=2.8.2 in /usr/local/lib/python3.10/dist-packages (from pandas->datasets) (2.8.2)\n",
      "Requirement already satisfied: pytz>=2020.1 in /usr/local/lib/python3.10/dist-packages (from pandas->datasets) (2024.2)\n",
      "Requirement already satisfied: tzdata>=2022.7 in /usr/local/lib/python3.10/dist-packages (from pandas->datasets) (2024.2)\n",
      "Requirement already satisfied: six>=1.5 in /usr/local/lib/python3.10/dist-packages (from python-dateutil>=2.8.2->pandas->datasets) (1.16.0)\n"
     ]
    }
   ],
   "source": [
    "!pip install datasets"
   ]
  },
  {
   "cell_type": "code",
   "execution_count": null,
   "metadata": {
    "id": "ShXxYaTQCxAm"
   },
   "outputs": [],
   "source": [
    "# IMPORT LIBRARY\n",
    "from google.colab import drive\n",
    "import re\n",
    "import torch\n",
    "from datasets import Dataset, DatasetDict\n",
    "from transformers import Trainer, TrainingArguments\n",
    "from sklearn.model_selection import train_test_split\n",
    "from imblearn.over_sampling import RandomOverSampler\n",
    "from sklearn.feature_extraction.text import TfidfVectorizer\n",
    "from transformers import AutoTokenizer, AutoModelForSequenceClassification, Trainer, TrainingArguments\n",
    "from sklearn.model_selection import train_test_split\n",
    "from datasets import Dataset, DatasetDict\n",
    "from sklearn.metrics import classification_report\n",
    "import torch\n",
    "import numpy as np\n",
    "import pandas as pd\n",
    "import matplotlib.pyplot as plt\n",
    "import seaborn as sns\n",
    "import os"
   ]
  },
  {
   "cell_type": "code",
   "execution_count": null,
   "metadata": {
    "colab": {
     "base_uri": "https://localhost:8080/"
    },
    "id": "PDVikZOGm_ut",
    "outputId": "3edc9e5c-f9a8-4d59-fb5b-f4143c818096"
   },
   "outputs": [
    {
     "name": "stdout",
     "output_type": "stream",
     "text": [
      "Drive already mounted at /content/drive; to attempt to forcibly remount, call drive.mount(\"/content/drive\", force_remount=True).\n"
     ]
    }
   ],
   "source": [
    "from google.colab import drive\n",
    "drive.mount('/content/drive')"
   ]
  },
  {
   "cell_type": "code",
   "execution_count": null,
   "metadata": {
    "colab": {
     "base_uri": "https://localhost:8080/"
    },
    "id": "O8pEQ6sHC5oN",
    "outputId": "a145bcc8-c1e1-4e3a-81a8-a1b18672e43d"
   },
   "outputs": [
    {
     "name": "stdout",
     "output_type": "stream",
     "text": [
      "                                           full_text  label_promo  \\\n",
      "0  @mwanual Haloo yuk jajan layout di @parkyoriii...            1   \n",
      "1  @raihanaulia_rar Ah iya Lotte dulu kesini buat...            1   \n",
      "2  @tokopedia yang paling ku tungguinnn ° ° Disko...            1   \n",
      "3  [Promo Pagiii] Promo Shopee Food hari ini disk...            1   \n",
      "4  100% kulit sapi segar 100% bebas pemutih 100% ...            1   \n",
      "\n",
      "   label_category  \n",
      "0               6  \n",
      "1               0  \n",
      "2               6  \n",
      "3               0  \n",
      "4               6  \n",
      "680\n"
     ]
    }
   ],
   "source": [
    "# READ FILE\n",
    "url = 'https://raw.githubusercontent.com/jejejery/IF5153-Tugas-Besar-Analisis-Promo/refs/heads/main/data/new_dataset_combine_promo_nonpromo_labeled.tsv'\n",
    "\n",
    "data_promo_non_promo = pd.read_csv(url, sep='\\t')\n",
    "print(data_promo_non_promo.head())\n",
    "print(len(data_promo_non_promo))"
   ]
  },
  {
   "cell_type": "code",
   "execution_count": null,
   "metadata": {
    "colab": {
     "base_uri": "https://localhost:8080/"
    },
    "id": "kT8dgkvpDXvl",
    "outputId": "9786143b-00a2-4ad9-fcbf-ee6271d1630e"
   },
   "outputs": [
    {
     "name": "stdout",
     "output_type": "stream",
     "text": [
      "                                             full_text  label_promo  \\\n",
      "0    @mwanual Haloo yuk jajan layout di @parkyoriii...            1   \n",
      "1    @raihanaulia_rar Ah iya Lotte dulu kesini buat...            1   \n",
      "2    @tokopedia yang paling ku tungguinnn ° ° Disko...            1   \n",
      "3    [Promo Pagiii] Promo Shopee Food hari ini disk...            1   \n",
      "4    100% kulit sapi segar 100% bebas pemutih 100% ...            1   \n",
      "..                                                 ...          ...   \n",
      "503  Jangan lewatkan diskon 50% untuk pembelian sma...            1   \n",
      "504  Dapatkan diskon 20% untuk pembelian produk tek...            1   \n",
      "505  Promo spesial dari Google! Beli Google Nest Mi...            1   \n",
      "506  Sewa drone untuk keperluan foto dan video deng...            1   \n",
      "507  Promo baru dari Oppo! Dapatkan Oppo Reno 6 den...            1   \n",
      "\n",
      "     label_category  \n",
      "0                 6  \n",
      "1                 0  \n",
      "2                 6  \n",
      "3                 0  \n",
      "4                 6  \n",
      "..              ...  \n",
      "503               5  \n",
      "504               5  \n",
      "505               5  \n",
      "506               5  \n",
      "507               5  \n",
      "\n",
      "[508 rows x 3 columns]\n",
      "508\n"
     ]
    }
   ],
   "source": [
    "# FILTERING DATA\n",
    "# Data yang akan digunakan hanya yang berlabel promo (label_promo=1)\n",
    "data_promo = data_promo_non_promo[data_promo_non_promo['label_promo'] == 1]\n",
    "print(data_promo)\n",
    "print(len(data_promo))"
   ]
  },
  {
   "cell_type": "code",
   "execution_count": null,
   "metadata": {
    "colab": {
     "base_uri": "https://localhost:8080/",
     "height": 564
    },
    "id": "OAzB_CVGDyug",
    "outputId": "0d492f59-1f5d-4909-9f6d-91a0cb90bc99"
   },
   "outputs": [
    {
     "data": {
      "image/png": "[encoded data removed]",
      "text/plain": [
       "<Figure size 1000x600 with 1 Axes>"
      ]
     },
     "metadata": {},
     "output_type": "display_data"
    }
   ],
   "source": [
    "# MELIHAT DISTRIBUSI FREKUENSI DARI LABEL CATEGORY\n",
    "label_counts = data_promo['label_category'].value_counts()\n",
    "plt.figure(figsize=(10, 6))\n",
    "sns.barplot(x=label_counts.index, y=label_counts.values)\n",
    "plt.title('Distribusi Frekuensi dari Label Category')\n",
    "plt.xlabel('Label Category')\n",
    "plt.ylabel('Frekuensi')\n",
    "plt.show()"
   ]
  },
  {
   "cell_type": "code",
   "execution_count": null,
   "metadata": {
    "colab": {
     "base_uri": "https://localhost:8080/"
    },
    "id": "r0nTZ6D6EVBJ",
    "outputId": "7c1c0229-af06-4dfe-af98-e560a99389a2"
   },
   "outputs": [
    {
     "name": "stdout",
     "output_type": "stream",
     "text": [
      "label_category\n",
      "6    117\n",
      "3    101\n",
      "2     60\n",
      "5     60\n",
      "1     60\n",
      "0     58\n",
      "4     52\n",
      "Name: count, dtype: int64\n"
     ]
    }
   ],
   "source": [
    "# IMBALANCE DATASET DI LABEL CATEGORY 3 DAN 6\n",
    "# PENGHAPUSAN DATASET UNTUK LABEL CATEGORY 3 dan 6, SEMUA LABEL DATASET DIRATAKAN BERKISAR DI 60\n",
    "print(data_promo[\"label_category\"].value_counts())\n",
    "\n",
    "# data_category_3 = data_promo[data_promo['label_category'] == 3].sample(n=60, random_state=42)\n",
    "# data_category_6 = data_promo[data_promo['label_category'] == 6].sample(n=60, random_state=42)\n",
    "# data_category_other = data_promo[~data_promo['label_category'].isin([3, 6])]\n",
    "# data_balanced = pd.concat([data_category_other, data_category_3, data_category_6])\n",
    "# data_balanced = data_balanced.sample(frac=1, random_state=42).reset_index(drop=True)\n",
    "# print(data_balanced['label_category'].value_counts())\n",
    "\n",
    "# JADINYA MENGAMBIL SEMUA DATA KARENA AKURASINYA LEBIH BAIK\n",
    "data_balanced = data_promo"
   ]
  },
  {
   "cell_type": "markdown",
   "metadata": {
    "id": "2iTC3VymFeUf"
   },
   "source": [
    "**PRE PROCESSING DATA**"
   ]
  },
  {
   "cell_type": "code",
   "execution_count": null,
   "metadata": {
    "colab": {
     "base_uri": "https://localhost:8080/"
    },
    "id": "8Sg_lVUhE2iN",
    "outputId": "c9d1707f-23a7-48d8-9e98-14a75888a860"
   },
   "outputs": [
    {
     "name": "stdout",
     "output_type": "stream",
     "text": [
      "                                             full_text  \\\n",
      "0    @mwanual Haloo yuk jajan layout di @parkyoriii...   \n",
      "1    @raihanaulia_rar Ah iya Lotte dulu kesini buat...   \n",
      "2    @tokopedia yang paling ku tungguinnn ° ° Disko...   \n",
      "3    [Promo Pagiii] Promo Shopee Food hari ini disk...   \n",
      "4    100% kulit sapi segar 100% bebas pemutih 100% ...   \n",
      "..                                                 ...   \n",
      "503  Jangan lewatkan diskon 50% untuk pembelian sma...   \n",
      "504  Dapatkan diskon 20% untuk pembelian produk tek...   \n",
      "505  Promo spesial dari Google! Beli Google Nest Mi...   \n",
      "506  Sewa drone untuk keperluan foto dan video deng...   \n",
      "507  Promo baru dari Oppo! Dapatkan Oppo Reno 6 den...   \n",
      "\n",
      "                                           masked_text  \n",
      "0    @mwanual Haloo yuk jajan layout di @parkyoriii...  \n",
      "1    @raihanaulia_rar Ah iya Lotte dulu kesini buat...  \n",
      "2    @tokopedia yang paling ku tungguinnn ° ° Disko...  \n",
      "3    [Promo Pagiii] Promo Shopee Food hari ini disk...  \n",
      "4    100% kulit sapi segar 100% bebas pemutih 100% ...  \n",
      "..                                                 ...  \n",
      "503  Jangan lewatkan diskon 50% untuk pembelian sma...  \n",
      "504  Dapatkan diskon 20% untuk pembelian produk tek...  \n",
      "505  Promo spesial dari Google! Beli Google Nest Mi...  \n",
      "506  Sewa drone untuk keperluan foto dan video deng...  \n",
      "507  Promo baru dari Oppo! Dapatkan Oppo Reno 6 den...  \n",
      "\n",
      "[508 rows x 2 columns]\n"
     ]
    },
    {
     "name": "stderr",
     "output_type": "stream",
     "text": [
      "<ipython-input-9-07f244b2ced4>:7: SettingWithCopyWarning: \n",
      "A value is trying to be set on a copy of a slice from a DataFrame.\n",
      "Try using .loc[row_indexer,col_indexer] = value instead\n",
      "\n",
      "See the caveats in the documentation: https://pandas.pydata.org/pandas-docs/stable/user_guide/indexing.html#returning-a-view-versus-a-copy\n",
      "  data_balanced['masked_text'] = data_balanced['full_text'].apply(lambda x: mask_url(x)[0])\n"
     ]
    }
   ],
   "source": [
    "# MASKING URL\n",
    "def mask_url(text):\n",
    "    url_list = re.findall(r'http\\S+|www\\S+|https\\S+', text)\n",
    "    masked_text = re.sub(r'http\\S+|www\\S+|https\\S+', 'URL_TERMASKING', text)\n",
    "    return masked_text, url_list\n",
    "\n",
    "data_balanced['masked_text'] = data_balanced['full_text'].apply(lambda x: mask_url(x)[0])\n",
    "print(data_balanced[['full_text', 'masked_text']])"
   ]
  },
  {
   "cell_type": "code",
   "execution_count": null,
   "metadata": {
    "colab": {
     "base_uri": "https://localhost:8080/"
    },
    "id": "pkKPEp6vFyTt",
    "outputId": "b5900681-ad6e-46bd-dc28-ef040ca9bc34"
   },
   "outputs": [
    {
     "name": "stdout",
     "output_type": "stream",
     "text": [
      "                                             full_text  \\\n",
      "0    @mwanual Haloo yuk jajan layout di @parkyoriii...   \n",
      "1    @raihanaulia_rar Ah iya Lotte dulu kesini buat...   \n",
      "2    @tokopedia yang paling ku tungguinnn ° ° Disko...   \n",
      "3    [Promo Pagiii] Promo Shopee Food hari ini disk...   \n",
      "4    100% kulit sapi segar 100% bebas pemutih 100% ...   \n",
      "..                                                 ...   \n",
      "503  Jangan lewatkan diskon 50% untuk pembelian sma...   \n",
      "504  Dapatkan diskon 20% untuk pembelian produk tek...   \n",
      "505  Promo spesial dari Google! Beli Google Nest Mi...   \n",
      "506  Sewa drone untuk keperluan foto dan video deng...   \n",
      "507  Promo baru dari Oppo! Dapatkan Oppo Reno 6 den...   \n",
      "\n",
      "                                           masked_text  \\\n",
      "0    @mwanual Haloo yuk jajan layout di @parkyoriii...   \n",
      "1    @raihanaulia_rar Ah iya Lotte dulu kesini buat...   \n",
      "2    @tokopedia yang paling ku tungguinnn ° ° Disko...   \n",
      "3    [Promo Pagiii] Promo Shopee Food hari ini disk...   \n",
      "4    100% kulit sapi segar 100% bebas pemutih 100% ...   \n",
      "..                                                 ...   \n",
      "503  Jangan lewatkan diskon 50% untuk pembelian sma...   \n",
      "504  Dapatkan diskon 20% untuk pembelian produk tek...   \n",
      "505  Promo spesial dari Google! Beli Google Nest Mi...   \n",
      "506  Sewa drone untuk keperluan foto dan video deng...   \n",
      "507  Promo baru dari Oppo! Dapatkan Oppo Reno 6 den...   \n",
      "\n",
      "                                      masked_usernames  \n",
      "0    USERNAME_MASKED Haloo yuk jajan layout di USER...  \n",
      "1    USERNAME_MASKED Ah iya Lotte dulu kesini buat ...  \n",
      "2    USERNAME_MASKED yang paling ku tungguinnn ° ° ...  \n",
      "3    [Promo Pagiii] Promo Shopee Food hari ini disk...  \n",
      "4    100% kulit sapi segar 100% bebas pemutih 100% ...  \n",
      "..                                                 ...  \n",
      "503  Jangan lewatkan diskon 50% untuk pembelian sma...  \n",
      "504  Dapatkan diskon 20% untuk pembelian produk tek...  \n",
      "505  Promo spesial dari Google! Beli Google Nest Mi...  \n",
      "506  Sewa drone untuk keperluan foto dan video deng...  \n",
      "507  Promo baru dari Oppo! Dapatkan Oppo Reno 6 den...  \n",
      "\n",
      "[508 rows x 3 columns]\n"
     ]
    },
    {
     "name": "stderr",
     "output_type": "stream",
     "text": [
      "<ipython-input-10-092df86eb570>:6: SettingWithCopyWarning: \n",
      "A value is trying to be set on a copy of a slice from a DataFrame.\n",
      "Try using .loc[row_indexer,col_indexer] = value instead\n",
      "\n",
      "See the caveats in the documentation: https://pandas.pydata.org/pandas-docs/stable/user_guide/indexing.html#returning-a-view-versus-a-copy\n",
      "  data_balanced['masked_usernames'] = data_balanced['masked_text'].apply(mask_usernames)\n"
     ]
    }
   ],
   "source": [
    "# MASKING USERNAME\n",
    "def mask_usernames(text):\n",
    "    masked_text = re.sub(r'@\\w+', 'USERNAME_MASKED', text)\n",
    "    return masked_text\n",
    "\n",
    "data_balanced['masked_usernames'] = data_balanced['masked_text'].apply(mask_usernames)\n",
    "print(data_balanced[['full_text', 'masked_text', 'masked_usernames']])"
   ]
  },
  {
   "cell_type": "code",
   "execution_count": null,
   "metadata": {
    "colab": {
     "base_uri": "https://localhost:8080/"
    },
    "id": "WSFQJv-cGA3K",
    "outputId": "87f0ed6d-6cd6-45f4-f4ea-552d85f42fc9"
   },
   "outputs": [
    {
     "name": "stdout",
     "output_type": "stream",
     "text": [
      "                                      masked_usernames  \\\n",
      "0    USERNAME_MASKED Haloo yuk jajan layout di USER...   \n",
      "1    USERNAME_MASKED Ah iya Lotte dulu kesini buat ...   \n",
      "2    USERNAME_MASKED yang paling ku tungguinnn ° ° ...   \n",
      "3    [Promo Pagiii] Promo Shopee Food hari ini disk...   \n",
      "4    100% kulit sapi segar 100% bebas pemutih 100% ...   \n",
      "..                                                 ...   \n",
      "503  Jangan lewatkan diskon 50% untuk pembelian sma...   \n",
      "504  Dapatkan diskon 20% untuk pembelian produk tek...   \n",
      "505  Promo spesial dari Google! Beli Google Nest Mi...   \n",
      "506  Sewa drone untuk keperluan foto dan video deng...   \n",
      "507  Promo baru dari Oppo! Dapatkan Oppo Reno 6 den...   \n",
      "\n",
      "                          content_with_masked_hashtags  \n",
      "0    USERNAME_MASKED Haloo yuk jajan layout di USER...  \n",
      "1    USERNAME_MASKED Ah iya Lotte dulu kesini buat ...  \n",
      "2    USERNAME_MASKED yang paling ku tungguinnn ° ° ...  \n",
      "3    [Promo Pagiii] Promo Shopee Food hari ini disk...  \n",
      "4    100% kulit sapi segar 100% bebas pemutih 100% ...  \n",
      "..                                                 ...  \n",
      "503  Jangan lewatkan diskon 50% untuk pembelian sma...  \n",
      "504  Dapatkan diskon 20% untuk pembelian produk tek...  \n",
      "505  Promo spesial dari Google! Beli Google Nest Mi...  \n",
      "506  Sewa drone untuk keperluan foto dan video deng...  \n",
      "507  Promo baru dari Oppo! Dapatkan Oppo Reno 6 den...  \n",
      "\n",
      "[508 rows x 2 columns]\n"
     ]
    },
    {
     "name": "stderr",
     "output_type": "stream",
     "text": [
      "<ipython-input-11-328940dbe1ae>:6: SettingWithCopyWarning: \n",
      "A value is trying to be set on a copy of a slice from a DataFrame.\n",
      "Try using .loc[row_indexer,col_indexer] = value instead\n",
      "\n",
      "See the caveats in the documentation: https://pandas.pydata.org/pandas-docs/stable/user_guide/indexing.html#returning-a-view-versus-a-copy\n",
      "  data_balanced['content_with_masked_hashtags'] = data_balanced['masked_usernames'].apply(mask_hashtags)\n"
     ]
    }
   ],
   "source": [
    "# MASKING HASTAG\n",
    "def mask_hashtags(text):\n",
    "    masked_text = re.sub(r'#\\w+', 'HASHTAG_MASKED', text)\n",
    "    return masked_text\n",
    "\n",
    "data_balanced['content_with_masked_hashtags'] = data_balanced['masked_usernames'].apply(mask_hashtags)\n",
    "print(data_balanced[['masked_usernames', 'content_with_masked_hashtags']])"
   ]
  },
  {
   "cell_type": "markdown",
   "metadata": {
    "id": "IQO1HsLwGbhm"
   },
   "source": [
    "**FINE TUNNING PRE TRAINED MODEL INDOBERT P2**"
   ]
  },
  {
   "cell_type": "code",
   "execution_count": null,
   "metadata": {
    "colab": {
     "base_uri": "https://localhost:8080/"
    },
    "id": "iDMBLbBgGS8A",
    "outputId": "4198f9d7-c099-4ad6-c785-9ac37d18ed68"
   },
   "outputs": [
    {
     "name": "stderr",
     "output_type": "stream",
     "text": [
      "/usr/local/lib/python3.10/dist-packages/huggingface_hub/utils/_auth.py:94: UserWarning: \n",
      "The secret `HF_TOKEN` does not exist in your Colab secrets.\n",
      "To authenticate with the Hugging Face Hub, create a token in your settings tab (https://huggingface.co/settings/tokens), set it as secret in your Google Colab and restart your session.\n",
      "You will be able to reuse this secret in all of your notebooks.\n",
      "Please note that authentication is recommended but still optional to access public models or datasets.\n",
      "  warnings.warn(\n"
     ]
    }
   ],
   "source": [
    "os.environ[\"WANDB_DISABLED\"] = \"true\"\n",
    "\n",
    "# TOKENIZER\n",
    "tokenizer = AutoTokenizer.from_pretrained('indobenchmark/indobert-base-p2')"
   ]
  },
  {
   "cell_type": "code",
   "execution_count": null,
   "metadata": {
    "id": "ZuuRpKnRIzYh"
   },
   "outputs": [],
   "source": [
    "# MEMBAGI DATASET MENJADI TRAIN, VALID DAN TEST\n",
    "X_train, X_test, y_train, y_test = train_test_split(data_balanced['content_with_masked_hashtags'],\n",
    "                                                    data_balanced['label_category'],\n",
    "                                                    test_size=0.2,\n",
    "                                                    stratify=data_balanced['label_category'],\n",
    "                                                    random_state=42)\n",
    "\n",
    "X_train, X_valid, y_train, y_valid = train_test_split(X_train, y_train,\n",
    "                                                      test_size=0.2,\n",
    "                                                      stratify=y_train,\n",
    "                                                      random_state=42)\n",
    "train_dataset = Dataset.from_dict({\n",
    "    'text': X_train.tolist(),\n",
    "    'label': y_train.tolist()\n",
    "})\n",
    "valid_dataset = Dataset.from_dict({\n",
    "    'text': X_valid.tolist(),\n",
    "    'label': y_valid.tolist()\n",
    "})\n",
    "test_dataset = Dataset.from_dict({\n",
    "    'text': X_test.tolist(),\n",
    "    'label': y_test.tolist()\n",
    "})"
   ]
  },
  {
   "cell_type": "code",
   "execution_count": null,
   "metadata": {
    "id": "vz3dQOA_iHxX"
   },
   "outputs": [],
   "source": [
    "# FUNGSI TOKENISASI\n",
    "def tokenize_function(examples):\n",
    "    return tokenizer(examples['text'], padding=True, truncation=True, max_length=512)"
   ]
  },
  {
   "cell_type": "code",
   "execution_count": null,
   "metadata": {
    "colab": {
     "base_uri": "https://localhost:8080/",
     "height": 113,
     "referenced_widgets": [
      "4c5bb42c401b4cacbc933c54b2d2b1f3",
      "0e56ce69307d474b8b6a02aca7aae16c",
      "9e306743131b43b08d56242d391db4d5",
      "633c441d3cd74fb9a24b343ca35702af",
      "35255dd077034edb9f4b15c8676524e6",
      "1ec08252d9f9479384df807dabd13aac",
      "c622795a3e7a42079b5b970160ad27f2",
      "5c79e447070c41d2846415cf71ed944b",
      "7e21ebf72fa84d10b140aade6b4a4e1f",
      "78d3d2a016cc4299a65137816f4b5dcd",
      "da7a1716f1ed43df918a7591dbce2b03",
      "7adb7ad5c1fe4a5eb42546cf881b3d55",
      "33811f37cd27439bb4237a6d5b4af800",
      "4b7a69fd7d0748bab247f8d9d98d5e2f",
      "a83a33e7cd1c4c6695fecd7a53c8a22b",
      "d3a71976a6ad45f6b4e20803b0a12566",
      "11a14baff4f044c1890690daa456af7a",
      "7d04ea3672ab4e8d8c648c5ef22f01e1",
      "b5c09e38cfec4bb4acded737fe643d04",
      "7e67adb9393f4f1688442a8b5afe04e2",
      "9e2abfcff851494ebbdc6cfefb25b2af",
      "406fd3bd544140e5a55bedacc3106afa",
      "196705e2a394446ba1815e84b0151c48",
      "3fbd72e58a854b9293e5c5dd939d1aff",
      "25a744ace2f44ba887e6ec267ffa40b4",
      "7b23567fd9ff4f16bf9e30989523b25b",
      "e2a813e590094bd891682d9daa82dcf2",
      "20edade49a624299adfc3ce525e71fe0",
      "ef64af8bd3de4c9993cc9558a84a3dbf",
      "07e67e7dd0f64be4bbaf097cbe5c8ddb",
      "639ea7e2cd2647d7bde489d11d0f5bba",
      "3a31d9400af947ce90c3bb6c55108595",
      "8c1b1347ff044d60aa89c39be56867a0"
     ]
    },
    "id": "KKhLtGqpipno",
    "outputId": "350e7f8e-d32a-470e-a267-1005a73c24bb"
   },
   "outputs": [
    {
     "data": {
      "application/vnd.jupyter.widget-view+json": {
       "model_id": "4c5bb42c401b4cacbc933c54b2d2b1f3",
       "version_major": 2,
       "version_minor": 0
      },
      "text/plain": [
       "Map:   0%|          | 0/324 [00:00<?, ? examples/s]"
      ]
     },
     "metadata": {},
     "output_type": "display_data"
    },
    {
     "data": {
      "application/vnd.jupyter.widget-view+json": {
       "model_id": "7adb7ad5c1fe4a5eb42546cf881b3d55",
       "version_major": 2,
       "version_minor": 0
      },
      "text/plain": [
       "Map:   0%|          | 0/82 [00:00<?, ? examples/s]"
      ]
     },
     "metadata": {},
     "output_type": "display_data"
    },
    {
     "data": {
      "application/vnd.jupyter.widget-view+json": {
       "model_id": "196705e2a394446ba1815e84b0151c48",
       "version_major": 2,
       "version_minor": 0
      },
      "text/plain": [
       "Map:   0%|          | 0/102 [00:00<?, ? examples/s]"
      ]
     },
     "metadata": {},
     "output_type": "display_data"
    }
   ],
   "source": [
    "# TOKENISASI UNTUK DATASET\n",
    "train_dataset = train_dataset.map(tokenize_function, batched=True)\n",
    "valid_dataset = valid_dataset.map(tokenize_function, batched=True)\n",
    "test_dataset = test_dataset.map(tokenize_function, batched=True)"
   ]
  },
  {
   "cell_type": "code",
   "execution_count": null,
   "metadata": {
    "id": "-6bMVuh7i8b1"
   },
   "outputs": [],
   "source": [
    "# CONVERT DATASET KE PYTORCH\n",
    "def format_dataset(dataset):\n",
    "    dataset.set_format(type='torch', columns=['input_ids', 'attention_mask', 'label'])\n",
    "    return dataset\n",
    "\n",
    "train_dataset = format_dataset(train_dataset)\n",
    "valid_dataset = format_dataset(valid_dataset)\n",
    "test_dataset = format_dataset(test_dataset)"
   ]
  },
  {
   "cell_type": "code",
   "execution_count": null,
   "metadata": {
    "colab": {
     "base_uri": "https://localhost:8080/"
    },
    "id": "-PpxlWezjkyv",
    "outputId": "67278ea4-fbd4-4b0b-9cad-0722bd497c06"
   },
   "outputs": [
    {
     "name": "stdout",
     "output_type": "stream",
     "text": [
      "\n",
      "Final dataset:\n",
      "DatasetDict({\n",
      "    train: Dataset({\n",
      "        features: ['text', 'label', 'input_ids', 'token_type_ids', 'attention_mask'],\n",
      "        num_rows: 324\n",
      "    })\n",
      "    validation: Dataset({\n",
      "        features: ['text', 'label', 'input_ids', 'token_type_ids', 'attention_mask'],\n",
      "        num_rows: 82\n",
      "    })\n",
      "    test: Dataset({\n",
      "        features: ['text', 'label', 'input_ids', 'token_type_ids', 'attention_mask'],\n",
      "        num_rows: 102\n",
      "    })\n",
      "})\n",
      "\n",
      "Distribusi kelas:\n",
      "Train dataset: 6    74\n",
      "3    65\n",
      "1    38\n",
      "2    38\n",
      "5    38\n",
      "0    37\n",
      "4    34\n",
      "Name: count, dtype: int64\n",
      "Validation dataset: 6    19\n",
      "3    16\n",
      "5    10\n",
      "1    10\n",
      "2    10\n",
      "0     9\n",
      "4     8\n",
      "Name: count, dtype: int64\n",
      "Test dataset: 6    24\n",
      "3    20\n",
      "2    12\n",
      "5    12\n",
      "1    12\n",
      "0    12\n",
      "4    10\n",
      "Name: count, dtype: int64\n"
     ]
    }
   ],
   "source": [
    "# GABUNGKAN DATASET MENJAD\n",
    "dataset = DatasetDict({\n",
    "    'train': train_dataset,\n",
    "    'validation': valid_dataset,\n",
    "    'test': test_dataset\n",
    "})\n",
    "\n",
    "# Verifikasi dataset akhir\n",
    "print(\"\\nFinal dataset:\")\n",
    "print(dataset)\n",
    "\n",
    "# Cetak distribusi kelas untuk train, validation, dan test\n",
    "print(\"\\nDistribusi kelas:\")\n",
    "print(\"Train dataset:\", pd.Series(dataset['train']['label']).value_counts())\n",
    "print(\"Validation dataset:\", pd.Series(dataset['validation']['label']).value_counts())\n",
    "print(\"Test dataset:\", pd.Series(dataset['test']['label']).value_counts())"
   ]
  },
  {
   "cell_type": "code",
   "execution_count": null,
   "metadata": {
    "colab": {
     "base_uri": "https://localhost:8080/"
    },
    "id": "jbOysDEJpen8",
    "outputId": "3f9d2821-cb71-4f19-8a99-e19d1c1ab178"
   },
   "outputs": [
    {
     "name": "stderr",
     "output_type": "stream",
     "text": [
      "Some weights of BertForSequenceClassification were not initialized from the model checkpoint at indobenchmark/indobert-base-p2 and are newly initialized: ['classifier.bias', 'classifier.weight']\n",
      "You should probably TRAIN this model on a down-stream task to be able to use it for predictions and inference.\n",
      "/usr/local/lib/python3.10/dist-packages/transformers/training_args.py:1575: FutureWarning: `evaluation_strategy` is deprecated and will be removed in version 4.46 of 🤗 Transformers. Use `eval_strategy` instead\n",
      "  warnings.warn(\n",
      "Using the `WANDB_DISABLED` environment variable is deprecated and will be removed in v5. Use the --report_to flag to control the integrations used for logging result (for instance --report_to none).\n"
     ]
    }
   ],
   "source": [
    "model = AutoModelForSequenceClassification.from_pretrained('indobenchmark/indobert-base-p2', num_labels=7)\n",
    "training_args = TrainingArguments(\n",
    "    output_dir='./results',\n",
    "    num_train_epochs=5,\n",
    "    per_device_train_batch_size=16,\n",
    "    per_device_eval_batch_size=64,\n",
    "    warmup_steps=500,\n",
    "    weight_decay=0.01,\n",
    "    logging_dir='./logs',\n",
    "    logging_steps=10,\n",
    "    evaluation_strategy=\"epoch\",\n",
    "    save_strategy=\"epoch\",\n",
    "    load_best_model_at_end=True,\n",
    "    metric_for_best_model=\"accuracy\"\n",
    ")"
   ]
  },
  {
   "cell_type": "code",
   "execution_count": null,
   "metadata": {
    "id": "bi1JFxHFsFMb"
   },
   "outputs": [],
   "source": [
    "# FUNGSI UNTUK MENGECEK AKURASI\n",
    "def compute_metrics(p):\n",
    "    preds = np.argmax(p.predictions, axis=1)\n",
    "    return classification_report(p.label_ids, preds, output_dict=True)"
   ]
  },
  {
   "cell_type": "code",
   "execution_count": null,
   "metadata": {
    "colab": {
     "base_uri": "https://localhost:8080/",
     "height": 1000
    },
    "id": "JG2uGvD7u5hT",
    "outputId": "641c3137-7940-4e30-fb12-41bb6ce112a6"
   },
   "outputs": [
    {
     "data": {
      "text/html": [
       "\n",
       "    <div>\n",
       "      \n",
       "      <progress value='105' max='105' style='width:300px; height:20px; vertical-align: middle;'></progress>\n",
       "      [105/105 01:47, Epoch 5/5]\n",
       "    </div>\n",
       "    <table border=\"1\" class=\"dataframe\">\n",
       "  <thead>\n",
       " <tr style=\"text-align: left;\">\n",
       "      <th>Epoch</th>\n",
       "      <th>Training Loss</th>\n",
       "      <th>Validation Loss</th>\n",
       "      <th>0</th>\n",
       "      <th>1</th>\n",
       "      <th>2</th>\n",
       "      <th>3</th>\n",
       "      <th>4</th>\n",
       "      <th>5</th>\n",
       "      <th>6</th>\n",
       "      <th>Accuracy</th>\n",
       "      <th>Macro avg</th>\n",
       "      <th>Weighted avg</th>\n",
       "    </tr>\n",
       "  </thead>\n",
       "  <tbody>\n",
       "    <tr>\n",
       "      <td>1</td>\n",
       "      <td>1.940900</td>\n",
       "      <td>1.897343</td>\n",
       "      <td>{'precision': 0.0, 'recall': 0.0, 'f1-score': 0.0, 'support': 9.0}</td>\n",
       "      <td>{'precision': 0.42857142857142855, 'recall': 0.3, 'f1-score': 0.35294117647058826, 'support': 10.0}</td>\n",
       "      <td>{'precision': 0.2222222222222222, 'recall': 0.6, 'f1-score': 0.32432432432432434, 'support': 10.0}</td>\n",
       "      <td>{'precision': 0.6666666666666666, 'recall': 0.75, 'f1-score': 0.7058823529411765, 'support': 16.0}</td>\n",
       "      <td>{'precision': 0.0, 'recall': 0.0, 'f1-score': 0.0, 'support': 8.0}</td>\n",
       "      <td>{'precision': 0.13793103448275862, 'recall': 0.4, 'f1-score': 0.20512820512820512, 'support': 10.0}</td>\n",
       "      <td>{'precision': 0.0, 'recall': 0.0, 'f1-score': 0.0, 'support': 19.0}</td>\n",
       "      <td>0.304878</td>\n",
       "      <td>{'precision': 0.20791305027758228, 'recall': 0.2928571428571428, 'f1-score': 0.2268965798377563, 'support': 82.0}</td>\n",
       "      <td>{'precision': 0.22626723804183854, 'recall': 0.3048780487804878, 'f1-score': 0.24534213056451223, 'support': 82.0}</td>\n",
       "    </tr>\n",
       "    <tr>\n",
       "      <td>2</td>\n",
       "      <td>1.776200</td>\n",
       "      <td>1.690269</td>\n",
       "      <td>{'precision': 0.0, 'recall': 0.0, 'f1-score': 0.0, 'support': 9.0}</td>\n",
       "      <td>{'precision': 1.0, 'recall': 0.1, 'f1-score': 0.18181818181818182, 'support': 10.0}</td>\n",
       "      <td>{'precision': 0.4166666666666667, 'recall': 0.5, 'f1-score': 0.45454545454545453, 'support': 10.0}</td>\n",
       "      <td>{'precision': 0.6190476190476191, 'recall': 0.8125, 'f1-score': 0.7027027027027027, 'support': 16.0}</td>\n",
       "      <td>{'precision': 1.0, 'recall': 0.375, 'f1-score': 0.5454545454545454, 'support': 8.0}</td>\n",
       "      <td>{'precision': 0.0, 'recall': 0.0, 'f1-score': 0.0, 'support': 10.0}</td>\n",
       "      <td>{'precision': 0.4, 'recall': 0.9473684210526315, 'f1-score': 0.5625, 'support': 19.0}</td>\n",
       "      <td>0.487805</td>\n",
       "      <td>{'precision': 0.4908163265306122, 'recall': 0.3906954887218045, 'f1-score': 0.34957441207441203, 'support': 82.0}</td>\n",
       "      <td>{'precision': 0.4837979094076655, 'recall': 0.4878048780487805, 'f1-score': 0.3982684874453168, 'support': 82.0}</td>\n",
       "    </tr>\n",
       "    <tr>\n",
       "      <td>3</td>\n",
       "      <td>1.503900</td>\n",
       "      <td>1.389443</td>\n",
       "      <td>{'precision': 0.0, 'recall': 0.0, 'f1-score': 0.0, 'support': 9.0}</td>\n",
       "      <td>{'precision': 0.7777777777777778, 'recall': 0.7, 'f1-score': 0.7368421052631579, 'support': 10.0}</td>\n",
       "      <td>{'precision': 0.8, 'recall': 0.4, 'f1-score': 0.5333333333333333, 'support': 10.0}</td>\n",
       "      <td>{'precision': 0.9230769230769231, 'recall': 0.75, 'f1-score': 0.8275862068965517, 'support': 16.0}</td>\n",
       "      <td>{'precision': 0.6363636363636364, 'recall': 0.875, 'f1-score': 0.7368421052631579, 'support': 8.0}</td>\n",
       "      <td>{'precision': 0.0, 'recall': 0.0, 'f1-score': 0.0, 'support': 10.0}</td>\n",
       "      <td>{'precision': 0.4090909090909091, 'recall': 0.9473684210526315, 'f1-score': 0.5714285714285714, 'support': 19.0}</td>\n",
       "      <td>0.585366</td>\n",
       "      <td>{'precision': 0.5066156066156066, 'recall': 0.5246240601503759, 'f1-score': 0.486576046026396, 'support': 82.0}</td>\n",
       "      <td>{'precision': 0.5293981086664014, 'recall': 0.5853658536585366, 'f1-score': 0.5206708950677787, 'support': 82.0}</td>\n",
       "    </tr>\n",
       "    <tr>\n",
       "      <td>4</td>\n",
       "      <td>1.224700</td>\n",
       "      <td>1.068814</td>\n",
       "      <td>{'precision': 1.0, 'recall': 0.4444444444444444, 'f1-score': 0.6153846153846154, 'support': 9.0}</td>\n",
       "      <td>{'precision': 0.875, 'recall': 0.7, 'f1-score': 0.7777777777777778, 'support': 10.0}</td>\n",
       "      <td>{'precision': 0.6666666666666666, 'recall': 0.4, 'f1-score': 0.5, 'support': 10.0}</td>\n",
       "      <td>{'precision': 0.875, 'recall': 0.875, 'f1-score': 0.875, 'support': 16.0}</td>\n",
       "      <td>{'precision': 0.5833333333333334, 'recall': 0.875, 'f1-score': 0.7, 'support': 8.0}</td>\n",
       "      <td>{'precision': 1.0, 'recall': 0.5, 'f1-score': 0.6666666666666666, 'support': 10.0}</td>\n",
       "      <td>{'precision': 0.5483870967741935, 'recall': 0.8947368421052632, 'f1-score': 0.68, 'support': 19.0}</td>\n",
       "      <td>0.707317</td>\n",
       "      <td>{'precision': 0.7926267281105991, 'recall': 0.6698830409356724, 'f1-score': 0.6878327228327228, 'support': 82.0}</td>\n",
       "      <td>{'precision': 0.7744230264883294, 'recall': 0.7073170731707317, 'f1-score': 0.7012549510110486, 'support': 82.0}</td>\n",
       "    </tr>\n",
       "    <tr>\n",
       "      <td>5</td>\n",
       "      <td>0.841800</td>\n",
       "      <td>0.785864</td>\n",
       "      <td>{'precision': 1.0, 'recall': 0.6666666666666666, 'f1-score': 0.8, 'support': 9.0}</td>\n",
       "      <td>{'precision': 1.0, 'recall': 0.8, 'f1-score': 0.8888888888888888, 'support': 10.0}</td>\n",
       "      <td>{'precision': 0.625, 'recall': 0.5, 'f1-score': 0.5555555555555556, 'support': 10.0}</td>\n",
       "      <td>{'precision': 1.0, 'recall': 0.9375, 'f1-score': 0.967741935483871, 'support': 16.0}</td>\n",
       "      <td>{'precision': 0.6363636363636364, 'recall': 0.875, 'f1-score': 0.7368421052631579, 'support': 8.0}</td>\n",
       "      <td>{'precision': 0.875, 'recall': 0.7, 'f1-score': 0.7777777777777778, 'support': 10.0}</td>\n",
       "      <td>{'precision': 0.6923076923076923, 'recall': 0.9473684210526315, 'f1-score': 0.8, 'support': 19.0}</td>\n",
       "      <td>0.804878</td>\n",
       "      <td>{'precision': 0.8326673326673327, 'recall': 0.7752192982456141, 'f1-score': 0.7895437518527502, 'support': 82.0}</td>\n",
       "      <td>{'precision': 0.8322531127409177, 'recall': 0.8048780487804879, 'f1-score': 0.8048881711227978, 'support': 82.0}</td>\n",
       "    </tr>\n",
       "  </tbody>\n",
       "</table><p>"
      ],
      "text/plain": [
       "<IPython.core.display.HTML object>"
      ]
     },
     "metadata": {},
     "output_type": "display_data"
    },
    {
     "name": "stderr",
     "output_type": "stream",
     "text": [
      "/usr/local/lib/python3.10/dist-packages/sklearn/metrics/_classification.py:1531: UndefinedMetricWarning: Precision is ill-defined and being set to 0.0 in labels with no predicted samples. Use `zero_division` parameter to control this behavior.\n",
      "  _warn_prf(average, modifier, f\"{metric.capitalize()} is\", len(result))\n",
      "/usr/local/lib/python3.10/dist-packages/sklearn/metrics/_classification.py:1531: UndefinedMetricWarning: Precision is ill-defined and being set to 0.0 in labels with no predicted samples. Use `zero_division` parameter to control this behavior.\n",
      "  _warn_prf(average, modifier, f\"{metric.capitalize()} is\", len(result))\n",
      "/usr/local/lib/python3.10/dist-packages/sklearn/metrics/_classification.py:1531: UndefinedMetricWarning: Precision is ill-defined and being set to 0.0 in labels with no predicted samples. Use `zero_division` parameter to control this behavior.\n",
      "  _warn_prf(average, modifier, f\"{metric.capitalize()} is\", len(result))\n",
      "Trainer is attempting to log a value of \"{'precision': 0.0, 'recall': 0.0, 'f1-score': 0.0, 'support': 9.0}\" of type <class 'dict'> for key \"eval/0\" as a scalar. This invocation of Tensorboard's writer.add_scalar() is incorrect so we dropped this attribute.\n",
      "Trainer is attempting to log a value of \"{'precision': 0.42857142857142855, 'recall': 0.3, 'f1-score': 0.35294117647058826, 'support': 10.0}\" of type <class 'dict'> for key \"eval/1\" as a scalar. This invocation of Tensorboard's writer.add_scalar() is incorrect so we dropped this attribute.\n",
      "Trainer is attempting to log a value of \"{'precision': 0.2222222222222222, 'recall': 0.6, 'f1-score': 0.32432432432432434, 'support': 10.0}\" of type <class 'dict'> for key \"eval/2\" as a scalar. This invocation of Tensorboard's writer.add_scalar() is incorrect so we dropped this attribute.\n",
      "Trainer is attempting to log a value of \"{'precision': 0.6666666666666666, 'recall': 0.75, 'f1-score': 0.7058823529411765, 'support': 16.0}\" of type <class 'dict'> for key \"eval/3\" as a scalar. This invocation of Tensorboard's writer.add_scalar() is incorrect so we dropped this attribute.\n",
      "Trainer is attempting to log a value of \"{'precision': 0.0, 'recall': 0.0, 'f1-score': 0.0, 'support': 8.0}\" of type <class 'dict'> for key \"eval/4\" as a scalar. This invocation of Tensorboard's writer.add_scalar() is incorrect so we dropped this attribute.\n",
      "Trainer is attempting to log a value of \"{'precision': 0.13793103448275862, 'recall': 0.4, 'f1-score': 0.20512820512820512, 'support': 10.0}\" of type <class 'dict'> for key \"eval/5\" as a scalar. This invocation of Tensorboard's writer.add_scalar() is incorrect so we dropped this attribute.\n",
      "Trainer is attempting to log a value of \"{'precision': 0.0, 'recall': 0.0, 'f1-score': 0.0, 'support': 19.0}\" of type <class 'dict'> for key \"eval/6\" as a scalar. This invocation of Tensorboard's writer.add_scalar() is incorrect so we dropped this attribute.\n",
      "Trainer is attempting to log a value of \"{'precision': 0.20791305027758228, 'recall': 0.2928571428571428, 'f1-score': 0.2268965798377563, 'support': 82.0}\" of type <class 'dict'> for key \"eval/macro avg\" as a scalar. This invocation of Tensorboard's writer.add_scalar() is incorrect so we dropped this attribute.\n",
      "Trainer is attempting to log a value of \"{'precision': 0.22626723804183854, 'recall': 0.3048780487804878, 'f1-score': 0.24534213056451223, 'support': 82.0}\" of type <class 'dict'> for key \"eval/weighted avg\" as a scalar. This invocation of Tensorboard's writer.add_scalar() is incorrect so we dropped this attribute.\n",
      "/usr/local/lib/python3.10/dist-packages/sklearn/metrics/_classification.py:1531: UndefinedMetricWarning: Precision is ill-defined and being set to 0.0 in labels with no predicted samples. Use `zero_division` parameter to control this behavior.\n",
      "  _warn_prf(average, modifier, f\"{metric.capitalize()} is\", len(result))\n",
      "/usr/local/lib/python3.10/dist-packages/sklearn/metrics/_classification.py:1531: UndefinedMetricWarning: Precision is ill-defined and being set to 0.0 in labels with no predicted samples. Use `zero_division` parameter to control this behavior.\n",
      "  _warn_prf(average, modifier, f\"{metric.capitalize()} is\", len(result))\n",
      "/usr/local/lib/python3.10/dist-packages/sklearn/metrics/_classification.py:1531: UndefinedMetricWarning: Precision is ill-defined and being set to 0.0 in labels with no predicted samples. Use `zero_division` parameter to control this behavior.\n",
      "  _warn_prf(average, modifier, f\"{metric.capitalize()} is\", len(result))\n",
      "Trainer is attempting to log a value of \"{'precision': 0.0, 'recall': 0.0, 'f1-score': 0.0, 'support': 9.0}\" of type <class 'dict'> for key \"eval/0\" as a scalar. This invocation of Tensorboard's writer.add_scalar() is incorrect so we dropped this attribute.\n",
      "Trainer is attempting to log a value of \"{'precision': 1.0, 'recall': 0.1, 'f1-score': 0.18181818181818182, 'support': 10.0}\" of type <class 'dict'> for key \"eval/1\" as a scalar. This invocation of Tensorboard's writer.add_scalar() is incorrect so we dropped this attribute.\n",
      "Trainer is attempting to log a value of \"{'precision': 0.4166666666666667, 'recall': 0.5, 'f1-score': 0.45454545454545453, 'support': 10.0}\" of type <class 'dict'> for key \"eval/2\" as a scalar. This invocation of Tensorboard's writer.add_scalar() is incorrect so we dropped this attribute.\n",
      "Trainer is attempting to log a value of \"{'precision': 0.6190476190476191, 'recall': 0.8125, 'f1-score': 0.7027027027027027, 'support': 16.0}\" of type <class 'dict'> for key \"eval/3\" as a scalar. This invocation of Tensorboard's writer.add_scalar() is incorrect so we dropped this attribute.\n",
      "Trainer is attempting to log a value of \"{'precision': 1.0, 'recall': 0.375, 'f1-score': 0.5454545454545454, 'support': 8.0}\" of type <class 'dict'> for key \"eval/4\" as a scalar. This invocation of Tensorboard's writer.add_scalar() is incorrect so we dropped this attribute.\n",
      "Trainer is attempting to log a value of \"{'precision': 0.0, 'recall': 0.0, 'f1-score': 0.0, 'support': 10.0}\" of type <class 'dict'> for key \"eval/5\" as a scalar. This invocation of Tensorboard's writer.add_scalar() is incorrect so we dropped this attribute.\n",
      "Trainer is attempting to log a value of \"{'precision': 0.4, 'recall': 0.9473684210526315, 'f1-score': 0.5625, 'support': 19.0}\" of type <class 'dict'> for key \"eval/6\" as a scalar. This invocation of Tensorboard's writer.add_scalar() is incorrect so we dropped this attribute.\n",
      "Trainer is attempting to log a value of \"{'precision': 0.4908163265306122, 'recall': 0.3906954887218045, 'f1-score': 0.34957441207441203, 'support': 82.0}\" of type <class 'dict'> for key \"eval/macro avg\" as a scalar. This invocation of Tensorboard's writer.add_scalar() is incorrect so we dropped this attribute.\n",
      "Trainer is attempting to log a value of \"{'precision': 0.4837979094076655, 'recall': 0.4878048780487805, 'f1-score': 0.3982684874453168, 'support': 82.0}\" of type <class 'dict'> for key \"eval/weighted avg\" as a scalar. This invocation of Tensorboard's writer.add_scalar() is incorrect so we dropped this attribute.\n",
      "/usr/local/lib/python3.10/dist-packages/sklearn/metrics/_classification.py:1531: UndefinedMetricWarning: Precision is ill-defined and being set to 0.0 in labels with no predicted samples. Use `zero_division` parameter to control this behavior.\n",
      "  _warn_prf(average, modifier, f\"{metric.capitalize()} is\", len(result))\n",
      "/usr/local/lib/python3.10/dist-packages/sklearn/metrics/_classification.py:1531: UndefinedMetricWarning: Precision is ill-defined and being set to 0.0 in labels with no predicted samples. Use `zero_division` parameter to control this behavior.\n",
      "  _warn_prf(average, modifier, f\"{metric.capitalize()} is\", len(result))\n",
      "/usr/local/lib/python3.10/dist-packages/sklearn/metrics/_classification.py:1531: UndefinedMetricWarning: Precision is ill-defined and being set to 0.0 in labels with no predicted samples. Use `zero_division` parameter to control this behavior.\n",
      "  _warn_prf(average, modifier, f\"{metric.capitalize()} is\", len(result))\n",
      "Trainer is attempting to log a value of \"{'precision': 0.0, 'recall': 0.0, 'f1-score': 0.0, 'support': 9.0}\" of type <class 'dict'> for key \"eval/0\" as a scalar. This invocation of Tensorboard's writer.add_scalar() is incorrect so we dropped this attribute.\n",
      "Trainer is attempting to log a value of \"{'precision': 0.7777777777777778, 'recall': 0.7, 'f1-score': 0.7368421052631579, 'support': 10.0}\" of type <class 'dict'> for key \"eval/1\" as a scalar. This invocation of Tensorboard's writer.add_scalar() is incorrect so we dropped this attribute.\n",
      "Trainer is attempting to log a value of \"{'precision': 0.8, 'recall': 0.4, 'f1-score': 0.5333333333333333, 'support': 10.0}\" of type <class 'dict'> for key \"eval/2\" as a scalar. This invocation of Tensorboard's writer.add_scalar() is incorrect so we dropped this attribute.\n",
      "Trainer is attempting to log a value of \"{'precision': 0.9230769230769231, 'recall': 0.75, 'f1-score': 0.8275862068965517, 'support': 16.0}\" of type <class 'dict'> for key \"eval/3\" as a scalar. This invocation of Tensorboard's writer.add_scalar() is incorrect so we dropped this attribute.\n",
      "Trainer is attempting to log a value of \"{'precision': 0.6363636363636364, 'recall': 0.875, 'f1-score': 0.7368421052631579, 'support': 8.0}\" of type <class 'dict'> for key \"eval/4\" as a scalar. This invocation of Tensorboard's writer.add_scalar() is incorrect so we dropped this attribute.\n",
      "Trainer is attempting to log a value of \"{'precision': 0.0, 'recall': 0.0, 'f1-score': 0.0, 'support': 10.0}\" of type <class 'dict'> for key \"eval/5\" as a scalar. This invocation of Tensorboard's writer.add_scalar() is incorrect so we dropped this attribute.\n",
      "Trainer is attempting to log a value of \"{'precision': 0.4090909090909091, 'recall': 0.9473684210526315, 'f1-score': 0.5714285714285714, 'support': 19.0}\" of type <class 'dict'> for key \"eval/6\" as a scalar. This invocation of Tensorboard's writer.add_scalar() is incorrect so we dropped this attribute.\n",
      "Trainer is attempting to log a value of \"{'precision': 0.5066156066156066, 'recall': 0.5246240601503759, 'f1-score': 0.486576046026396, 'support': 82.0}\" of type <class 'dict'> for key \"eval/macro avg\" as a scalar. This invocation of Tensorboard's writer.add_scalar() is incorrect so we dropped this attribute.\n",
      "Trainer is attempting to log a value of \"{'precision': 0.5293981086664014, 'recall': 0.5853658536585366, 'f1-score': 0.5206708950677787, 'support': 82.0}\" of type <class 'dict'> for key \"eval/weighted avg\" as a scalar. This invocation of Tensorboard's writer.add_scalar() is incorrect so we dropped this attribute.\n",
      "Trainer is attempting to log a value of \"{'precision': 1.0, 'recall': 0.4444444444444444, 'f1-score': 0.6153846153846154, 'support': 9.0}\" of type <class 'dict'> for key \"eval/0\" as a scalar. This invocation of Tensorboard's writer.add_scalar() is incorrect so we dropped this attribute.\n",
      "Trainer is attempting to log a value of \"{'precision': 0.875, 'recall': 0.7, 'f1-score': 0.7777777777777778, 'support': 10.0}\" of type <class 'dict'> for key \"eval/1\" as a scalar. This invocation of Tensorboard's writer.add_scalar() is incorrect so we dropped this attribute.\n",
      "Trainer is attempting to log a value of \"{'precision': 0.6666666666666666, 'recall': 0.4, 'f1-score': 0.5, 'support': 10.0}\" of type <class 'dict'> for key \"eval/2\" as a scalar. This invocation of Tensorboard's writer.add_scalar() is incorrect so we dropped this attribute.\n",
      "Trainer is attempting to log a value of \"{'precision': 0.875, 'recall': 0.875, 'f1-score': 0.875, 'support': 16.0}\" of type <class 'dict'> for key \"eval/3\" as a scalar. This invocation of Tensorboard's writer.add_scalar() is incorrect so we dropped this attribute.\n",
      "Trainer is attempting to log a value of \"{'precision': 0.5833333333333334, 'recall': 0.875, 'f1-score': 0.7, 'support': 8.0}\" of type <class 'dict'> for key \"eval/4\" as a scalar. This invocation of Tensorboard's writer.add_scalar() is incorrect so we dropped this attribute.\n",
      "Trainer is attempting to log a value of \"{'precision': 1.0, 'recall': 0.5, 'f1-score': 0.6666666666666666, 'support': 10.0}\" of type <class 'dict'> for key \"eval/5\" as a scalar. This invocation of Tensorboard's writer.add_scalar() is incorrect so we dropped this attribute.\n",
      "Trainer is attempting to log a value of \"{'precision': 0.5483870967741935, 'recall': 0.8947368421052632, 'f1-score': 0.68, 'support': 19.0}\" of type <class 'dict'> for key \"eval/6\" as a scalar. This invocation of Tensorboard's writer.add_scalar() is incorrect so we dropped this attribute.\n",
      "Trainer is attempting to log a value of \"{'precision': 0.7926267281105991, 'recall': 0.6698830409356724, 'f1-score': 0.6878327228327228, 'support': 82.0}\" of type <class 'dict'> for key \"eval/macro avg\" as a scalar. This invocation of Tensorboard's writer.add_scalar() is incorrect so we dropped this attribute.\n",
      "Trainer is attempting to log a value of \"{'precision': 0.7744230264883294, 'recall': 0.7073170731707317, 'f1-score': 0.7012549510110486, 'support': 82.0}\" of type <class 'dict'> for key \"eval/weighted avg\" as a scalar. This invocation of Tensorboard's writer.add_scalar() is incorrect so we dropped this attribute.\n",
      "Trainer is attempting to log a value of \"{'precision': 1.0, 'recall': 0.6666666666666666, 'f1-score': 0.8, 'support': 9.0}\" of type <class 'dict'> for key \"eval/0\" as a scalar. This invocation of Tensorboard's writer.add_scalar() is incorrect so we dropped this attribute.\n",
      "Trainer is attempting to log a value of \"{'precision': 1.0, 'recall': 0.8, 'f1-score': 0.8888888888888888, 'support': 10.0}\" of type <class 'dict'> for key \"eval/1\" as a scalar. This invocation of Tensorboard's writer.add_scalar() is incorrect so we dropped this attribute.\n",
      "Trainer is attempting to log a value of \"{'precision': 0.625, 'recall': 0.5, 'f1-score': 0.5555555555555556, 'support': 10.0}\" of type <class 'dict'> for key \"eval/2\" as a scalar. This invocation of Tensorboard's writer.add_scalar() is incorrect so we dropped this attribute.\n",
      "Trainer is attempting to log a value of \"{'precision': 1.0, 'recall': 0.9375, 'f1-score': 0.967741935483871, 'support': 16.0}\" of type <class 'dict'> for key \"eval/3\" as a scalar. This invocation of Tensorboard's writer.add_scalar() is incorrect so we dropped this attribute.\n",
      "Trainer is attempting to log a value of \"{'precision': 0.6363636363636364, 'recall': 0.875, 'f1-score': 0.7368421052631579, 'support': 8.0}\" of type <class 'dict'> for key \"eval/4\" as a scalar. This invocation of Tensorboard's writer.add_scalar() is incorrect so we dropped this attribute.\n",
      "Trainer is attempting to log a value of \"{'precision': 0.875, 'recall': 0.7, 'f1-score': 0.7777777777777778, 'support': 10.0}\" of type <class 'dict'> for key \"eval/5\" as a scalar. This invocation of Tensorboard's writer.add_scalar() is incorrect so we dropped this attribute.\n",
      "Trainer is attempting to log a value of \"{'precision': 0.6923076923076923, 'recall': 0.9473684210526315, 'f1-score': 0.8, 'support': 19.0}\" of type <class 'dict'> for key \"eval/6\" as a scalar. This invocation of Tensorboard's writer.add_scalar() is incorrect so we dropped this attribute.\n",
      "Trainer is attempting to log a value of \"{'precision': 0.8326673326673327, 'recall': 0.7752192982456141, 'f1-score': 0.7895437518527502, 'support': 82.0}\" of type <class 'dict'> for key \"eval/macro avg\" as a scalar. This invocation of Tensorboard's writer.add_scalar() is incorrect so we dropped this attribute.\n",
      "Trainer is attempting to log a value of \"{'precision': 0.8322531127409177, 'recall': 0.8048780487804879, 'f1-score': 0.8048881711227978, 'support': 82.0}\" of type <class 'dict'> for key \"eval/weighted avg\" as a scalar. This invocation of Tensorboard's writer.add_scalar() is incorrect so we dropped this attribute.\n"
     ]
    },
    {
     "data": {
      "text/plain": [
       "TrainOutput(global_step=105, training_loss=1.4965121768769765, metrics={'train_runtime': 110.592, 'train_samples_per_second': 14.648, 'train_steps_per_second': 0.949, 'total_flos': 86583868488000.0, 'train_loss': 1.4965121768769765, 'epoch': 5.0})"
      ]
     },
     "execution_count": 20,
     "metadata": {},
     "output_type": "execute_result"
    }
   ],
   "source": [
    "trainer = Trainer(\n",
    "    model=model,\n",
    "    args=training_args,\n",
    "    train_dataset=dataset['train'],\n",
    "    eval_dataset=dataset['validation'],\n",
    "    compute_metrics=compute_metrics\n",
    ")\n",
    "\n",
    "trainer.train()"
   ]
  },
  {
   "cell_type": "code",
   "execution_count": null,
   "metadata": {
    "colab": {
     "base_uri": "https://localhost:8080/",
     "height": 540
    },
    "id": "MTJ8h-_-vEh0",
    "outputId": "e731787c-debf-4638-f360-d3471655f613"
   },
   "outputs": [
    {
     "data": {
      "text/html": [],
      "text/plain": [
       "<IPython.core.display.HTML object>"
      ]
     },
     "metadata": {},
     "output_type": "display_data"
    },
    {
     "name": "stderr",
     "output_type": "stream",
     "text": [
      "Trainer is attempting to log a value of \"{'precision': 0.8888888888888888, 'recall': 0.6666666666666666, 'f1-score': 0.7619047619047619, 'support': 12.0}\" of type <class 'dict'> for key \"eval/0\" as a scalar. This invocation of Tensorboard's writer.add_scalar() is incorrect so we dropped this attribute.\n",
      "Trainer is attempting to log a value of \"{'precision': 0.8571428571428571, 'recall': 1.0, 'f1-score': 0.9230769230769231, 'support': 12.0}\" of type <class 'dict'> for key \"eval/1\" as a scalar. This invocation of Tensorboard's writer.add_scalar() is incorrect so we dropped this attribute.\n",
      "Trainer is attempting to log a value of \"{'precision': 0.75, 'recall': 0.75, 'f1-score': 0.75, 'support': 12.0}\" of type <class 'dict'> for key \"eval/2\" as a scalar. This invocation of Tensorboard's writer.add_scalar() is incorrect so we dropped this attribute.\n",
      "Trainer is attempting to log a value of \"{'precision': 0.9047619047619048, 'recall': 0.95, 'f1-score': 0.926829268292683, 'support': 20.0}\" of type <class 'dict'> for key \"eval/3\" as a scalar. This invocation of Tensorboard's writer.add_scalar() is incorrect so we dropped this attribute.\n",
      "Trainer is attempting to log a value of \"{'precision': 0.6666666666666666, 'recall': 0.6, 'f1-score': 0.631578947368421, 'support': 10.0}\" of type <class 'dict'> for key \"eval/4\" as a scalar. This invocation of Tensorboard's writer.add_scalar() is incorrect so we dropped this attribute.\n",
      "Trainer is attempting to log a value of \"{'precision': 0.8571428571428571, 'recall': 0.5, 'f1-score': 0.631578947368421, 'support': 12.0}\" of type <class 'dict'> for key \"eval/5\" as a scalar. This invocation of Tensorboard's writer.add_scalar() is incorrect so we dropped this attribute.\n",
      "Trainer is attempting to log a value of \"{'precision': 0.7, 'recall': 0.875, 'f1-score': 0.7777777777777778, 'support': 24.0}\" of type <class 'dict'> for key \"eval/6\" as a scalar. This invocation of Tensorboard's writer.add_scalar() is incorrect so we dropped this attribute.\n",
      "Trainer is attempting to log a value of \"{'precision': 0.8035147392290248, 'recall': 0.7630952380952382, 'f1-score': 0.7718209465412841, 'support': 102.0}\" of type <class 'dict'> for key \"eval/macro avg\" as a scalar. This invocation of Tensorboard's writer.add_scalar() is incorrect so we dropped this attribute.\n",
      "Trainer is attempting to log a value of \"{'precision': 0.8019607843137254, 'recall': 0.7941176470588235, 'f1-score': 0.7874291087686845, 'support': 102.0}\" of type <class 'dict'> for key \"eval/weighted avg\" as a scalar. This invocation of Tensorboard's writer.add_scalar() is incorrect so we dropped this attribute.\n"
     ]
    },
    {
     "name": "stdout",
     "output_type": "stream",
     "text": [
      "\n",
      "Evaluasi Hasil:\n",
      "{'eval_loss': 0.8195965886116028, 'eval_0': {'precision': 0.8888888888888888, 'recall': 0.6666666666666666, 'f1-score': 0.7619047619047619, 'support': 12.0}, 'eval_1': {'precision': 0.8571428571428571, 'recall': 1.0, 'f1-score': 0.9230769230769231, 'support': 12.0}, 'eval_2': {'precision': 0.75, 'recall': 0.75, 'f1-score': 0.75, 'support': 12.0}, 'eval_3': {'precision': 0.9047619047619048, 'recall': 0.95, 'f1-score': 0.926829268292683, 'support': 20.0}, 'eval_4': {'precision': 0.6666666666666666, 'recall': 0.6, 'f1-score': 0.631578947368421, 'support': 10.0}, 'eval_5': {'precision': 0.8571428571428571, 'recall': 0.5, 'f1-score': 0.631578947368421, 'support': 12.0}, 'eval_6': {'precision': 0.7, 'recall': 0.875, 'f1-score': 0.7777777777777778, 'support': 24.0}, 'eval_accuracy': 0.7941176470588235, 'eval_macro avg': {'precision': 0.8035147392290248, 'recall': 0.7630952380952382, 'f1-score': 0.7718209465412841, 'support': 102.0}, 'eval_weighted avg': {'precision': 0.8019607843137254, 'recall': 0.7941176470588235, 'f1-score': 0.7874291087686845, 'support': 102.0}, 'eval_runtime': 0.5162, 'eval_samples_per_second': 197.595, 'eval_steps_per_second': 3.874, 'epoch': 5.0}\n",
      "\n",
      "Classification Report pada Test Data:\n",
      "              precision    recall  f1-score   support\n",
      "\n",
      "           0       0.89      0.67      0.76        12\n",
      "           1       0.86      1.00      0.92        12\n",
      "           2       0.75      0.75      0.75        12\n",
      "           3       0.90      0.95      0.93        20\n",
      "           4       0.67      0.60      0.63        10\n",
      "           5       0.86      0.50      0.63        12\n",
      "           6       0.70      0.88      0.78        24\n",
      "\n",
      "    accuracy                           0.79       102\n",
      "   macro avg       0.80      0.76      0.77       102\n",
      "weighted avg       0.80      0.79      0.79       102\n",
      "\n"
     ]
    }
   ],
   "source": [
    "results = trainer.evaluate(dataset['test'])\n",
    "print(\"\\nEvaluasi Hasil:\")\n",
    "print(results)\n",
    "predictions = trainer.predict(dataset['test'])\n",
    "preds = np.argmax(predictions.predictions, axis=1)\n",
    "print(\"\\nClassification Report pada Test Data:\")\n",
    "print(classification_report(predictions.label_ids, preds))"
   ]
  },
  {
   "cell_type": "code",
   "execution_count": null,
   "metadata": {
    "colab": {
     "base_uri": "https://localhost:8080/"
    },
    "id": "cPk4gc-cwML3",
    "outputId": "81085364-3c1c-4044-9a2b-79424fb89833"
   },
   "outputs": [
    {
     "name": "stdout",
     "output_type": "stream",
     "text": [
      "Model and tokenizer saved successfully.\n"
     ]
    }
   ],
   "source": [
    "output_dir = '/content/drive/MyDrive/TUGAS BESAR NLP/MODEL/Promo-Category Classification/IndoBERT'\n",
    "\n",
    "os.makedirs(output_dir, exist_ok=True)\n",
    "model.save_pretrained(output_dir)\n",
    "tokenizer.save_pretrained(output_dir, legacy_format=False)\n",
    "\n",
    "print(\"Model and tokenizer saved successfully.\")"
   ]
  },
  {
   "cell_type": "code",
   "execution_count": null,
   "metadata": {
    "colab": {
     "base_uri": "https://localhost:8080/"
    },
    "id": "hLPWLChI8b8t",
    "outputId": "8220f20a-bcde-4671-de5d-e06793c877fe"
   },
   "outputs": [
    {
     "name": "stdout",
     "output_type": "stream",
     "text": [
      "Drive already mounted at /content/drive; to attempt to forcibly remount, call drive.mount(\"/content/drive\", force_remount=True).\n"
     ]
    }
   ],
   "source": [
    "from google.colab import drive\n",
    "drive.mount('/content/drive')"
   ]
  }
 ],
 "metadata": {
  "accelerator": "GPU",
  "colab": {
   "gpuType": "T4",
   "provenance": []
  },
  "kernelspec": {
   "display_name": "Python 3",
   "name": "python3"
  },
  "language_info": {
   "name": "python"
  },
  "widgets": {
   "application/vnd.jupyter.widget-state+json": {
    "07e67e7dd0f64be4bbaf097cbe5c8ddb": {
     "model_module": "@jupyter-widgets/base",
     "model_module_version": "1.2.0",
     "model_name": "LayoutModel",
     "state": {
      "_model_module": "@jupyter-widgets/base",
      "_model_module_version": "1.2.0",
      "_model_name": "LayoutModel",
      "_view_count": null,
      "_view_module": "@jupyter-widgets/base",
      "_view_module_version": "1.2.0",
      "_view_name": "LayoutView",
      "align_content": null,
      "align_items": null,
      "align_self": null,
      "border": null,
      "bottom": null,
      "display": null,
      "flex": null,
      "flex_flow": null,
      "grid_area": null,
      "grid_auto_columns": null,
      "grid_auto_flow": null,
      "grid_auto_rows": null,
      "grid_column": null,
      "grid_gap": null,
      "grid_row": null,
      "grid_template_areas": null,
      "grid_template_columns": null,
      "grid_template_rows": null,
      "height": null,
      "justify_content": null,
      "justify_items": null,
      "left": null,
      "margin": null,
      "max_height": null,
      "max_width": null,
      "min_height": null,
      "min_width": null,
      "object_fit": null,
      "object_position": null,
      "order": null,
      "overflow": null,
      "overflow_x": null,
      "overflow_y": null,
      "padding": null,
      "right": null,
      "top": null,
      "visibility": null,
      "width": null
     }
    },
    "0e56ce69307d474b8b6a02aca7aae16c": {
     "model_module": "@jupyter-widgets/controls",
     "model_module_version": "1.5.0",
     "model_name": "HTMLModel",
     "state": {
      "_dom_classes": [],
      "_model_module": "@jupyter-widgets/controls",
      "_model_module_version": "1.5.0",
      "_model_name": "HTMLModel",
      "_view_count": null,
      "_view_module": "@jupyter-widgets/controls",
      "_view_module_version": "1.5.0",
      "_view_name": "HTMLView",
      "description": "",
      "description_tooltip": null,
      "layout": "IPY_MODEL_1ec08252d9f9479384df807dabd13aac",
      "placeholder": "​",
      "style": "IPY_MODEL_c622795a3e7a42079b5b970160ad27f2",
      "value": "Map: 100%"
     }
    },
    "11a14baff4f044c1890690daa456af7a": {
     "model_module": "@jupyter-widgets/base",
     "model_module_version": "1.2.0",
     "model_name": "LayoutModel",
     "state": {
      "_model_module": "@jupyter-widgets/base",
      "_model_module_version": "1.2.0",
      "_model_name": "LayoutModel",
      "_view_count": null,
      "_view_module": "@jupyter-widgets/base",
      "_view_module_version": "1.2.0",
      "_view_name": "LayoutView",
      "align_content": null,
      "align_items": null,
      "align_self": null,
      "border": null,
      "bottom": null,
      "display": null,
      "flex": null,
      "flex_flow": null,
      "grid_area": null,
      "grid_auto_columns": null,
      "grid_auto_flow": null,
      "grid_auto_rows": null,
      "grid_column": null,
      "grid_gap": null,
      "grid_row": null,
      "grid_template_areas": null,
      "grid_template_columns": null,
      "grid_template_rows": null,
      "height": null,
      "justify_content": null,
      "justify_items": null,
      "left": null,
      "margin": null,
      "max_height": null,
      "max_width": null,
      "min_height": null,
      "min_width": null,
      "object_fit": null,
      "object_position": null,
      "order": null,
      "overflow": null,
      "overflow_x": null,
      "overflow_y": null,
      "padding": null,
      "right": null,
      "top": null,
      "visibility": null,
      "width": null
     }
    },
    "196705e2a394446ba1815e84b0151c48": {
     "model_module": "@jupyter-widgets/controls",
     "model_module_version": "1.5.0",
     "model_name": "HBoxModel",
     "state": {
      "_dom_classes": [],
      "_model_module": "@jupyter-widgets/controls",
      "_model_module_version": "1.5.0",
      "_model_name": "HBoxModel",
      "_view_count": null,
      "_view_module": "@jupyter-widgets/controls",
      "_view_module_version": "1.5.0",
      "_view_name": "HBoxView",
      "box_style": "",
      "children": [
       "IPY_MODEL_3fbd72e58a854b9293e5c5dd939d1aff",
       "IPY_MODEL_25a744ace2f44ba887e6ec267ffa40b4",
       "IPY_MODEL_7b23567fd9ff4f16bf9e30989523b25b"
      ],
      "layout": "IPY_MODEL_e2a813e590094bd891682d9daa82dcf2"
     }
    },
    "1ec08252d9f9479384df807dabd13aac": {
     "model_module": "@jupyter-widgets/base",
     "model_module_version": "1.2.0",
     "model_name": "LayoutModel",
     "state": {
      "_model_module": "@jupyter-widgets/base",
      "_model_module_version": "1.2.0",
      "_model_name": "LayoutModel",
      "_view_count": null,
      "_view_module": "@jupyter-widgets/base",
      "_view_module_version": "1.2.0",
      "_view_name": "LayoutView",
      "align_content": null,
      "align_items": null,
      "align_self": null,
      "border": null,
      "bottom": null,
      "display": null,
      "flex": null,
      "flex_flow": null,
      "grid_area": null,
      "grid_auto_columns": null,
      "grid_auto_flow": null,
      "grid_auto_rows": null,
      "grid_column": null,
      "grid_gap": null,
      "grid_row": null,
      "grid_template_areas": null,
      "grid_template_columns": null,
      "grid_template_rows": null,
      "height": null,
      "justify_content": null,
      "justify_items": null,
      "left": null,
      "margin": null,
      "max_height": null,
      "max_width": null,
      "min_height": null,
      "min_width": null,
      "object_fit": null,
      "object_position": null,
      "order": null,
      "overflow": null,
      "overflow_x": null,
      "overflow_y": null,
      "padding": null,
      "right": null,
      "top": null,
      "visibility": null,
      "width": null
     }
    },
    "20edade49a624299adfc3ce525e71fe0": {
     "model_module": "@jupyter-widgets/base",
     "model_module_version": "1.2.0",
     "model_name": "LayoutModel",
     "state": {
      "_model_module": "@jupyter-widgets/base",
      "_model_module_version": "1.2.0",
      "_model_name": "LayoutModel",
      "_view_count": null,
      "_view_module": "@jupyter-widgets/base",
      "_view_module_version": "1.2.0",
      "_view_name": "LayoutView",
      "align_content": null,
      "align_items": null,
      "align_self": null,
      "border": null,
      "bottom": null,
      "display": null,
      "flex": null,
      "flex_flow": null,
      "grid_area": null,
      "grid_auto_columns": null,
      "grid_auto_flow": null,
      "grid_auto_rows": null,
      "grid_column": null,
      "grid_gap": null,
      "grid_row": null,
      "grid_template_areas": null,
      "grid_template_columns": null,
      "grid_template_rows": null,
      "height": null,
      "justify_content": null,
      "justify_items": null,
      "left": null,
      "margin": null,
      "max_height": null,
      "max_width": null,
      "min_height": null,
      "min_width": null,
      "object_fit": null,
      "object_position": null,
      "order": null,
      "overflow": null,
      "overflow_x": null,
      "overflow_y": null,
      "padding": null,
      "right": null,
      "top": null,
      "visibility": null,
      "width": null
     }
    },
    "25a744ace2f44ba887e6ec267ffa40b4": {
     "model_module": "@jupyter-widgets/controls",
     "model_module_version": "1.5.0",
     "model_name": "FloatProgressModel",
     "state": {
      "_dom_classes": [],
      "_model_module": "@jupyter-widgets/controls",
      "_model_module_version": "1.5.0",
      "_model_name": "FloatProgressModel",
      "_view_count": null,
      "_view_module": "@jupyter-widgets/controls",
      "_view_module_version": "1.5.0",
      "_view_name": "ProgressView",
      "bar_style": "success",
      "description": "",
      "description_tooltip": null,
      "layout": "IPY_MODEL_07e67e7dd0f64be4bbaf097cbe5c8ddb",
      "max": 102,
      "min": 0,
      "orientation": "horizontal",
      "style": "IPY_MODEL_639ea7e2cd2647d7bde489d11d0f5bba",
      "value": 102
     }
    },
    "33811f37cd27439bb4237a6d5b4af800": {
     "model_module": "@jupyter-widgets/controls",
     "model_module_version": "1.5.0",
     "model_name": "HTMLModel",
     "state": {
      "_dom_classes": [],
      "_model_module": "@jupyter-widgets/controls",
      "_model_module_version": "1.5.0",
      "_model_name": "HTMLModel",
      "_view_count": null,
      "_view_module": "@jupyter-widgets/controls",
      "_view_module_version": "1.5.0",
      "_view_name": "HTMLView",
      "description": "",
      "description_tooltip": null,
      "layout": "IPY_MODEL_11a14baff4f044c1890690daa456af7a",
      "placeholder": "​",
      "style": "IPY_MODEL_7d04ea3672ab4e8d8c648c5ef22f01e1",
      "value": "Map: 100%"
     }
    },
    "35255dd077034edb9f4b15c8676524e6": {
     "model_module": "@jupyter-widgets/base",
     "model_module_version": "1.2.0",
     "model_name": "LayoutModel",
     "state": {
      "_model_module": "@jupyter-widgets/base",
      "_model_module_version": "1.2.0",
      "_model_name": "LayoutModel",
      "_view_count": null,
      "_view_module": "@jupyter-widgets/base",
      "_view_module_version": "1.2.0",
      "_view_name": "LayoutView",
      "align_content": null,
      "align_items": null,
      "align_self": null,
      "border": null,
      "bottom": null,
      "display": null,
      "flex": null,
      "flex_flow": null,
      "grid_area": null,
      "grid_auto_columns": null,
      "grid_auto_flow": null,
      "grid_auto_rows": null,
      "grid_column": null,
      "grid_gap": null,
      "grid_row": null,
      "grid_template_areas": null,
      "grid_template_columns": null,
      "grid_template_rows": null,
      "height": null,
      "justify_content": null,
      "justify_items": null,
      "left": null,
      "margin": null,
      "max_height": null,
      "max_width": null,
      "min_height": null,
      "min_width": null,
      "object_fit": null,
      "object_position": null,
      "order": null,
      "overflow": null,
      "overflow_x": null,
      "overflow_y": null,
      "padding": null,
      "right": null,
      "top": null,
      "visibility": null,
      "width": null
     }
    },
    "3a31d9400af947ce90c3bb6c55108595": {
     "model_module": "@jupyter-widgets/base",
     "model_module_version": "1.2.0",
     "model_name": "LayoutModel",
     "state": {
      "_model_module": "@jupyter-widgets/base",
      "_model_module_version": "1.2.0",
      "_model_name": "LayoutModel",
      "_view_count": null,
      "_view_module": "@jupyter-widgets/base",
      "_view_module_version": "1.2.0",
      "_view_name": "LayoutView",
      "align_content": null,
      "align_items": null,
      "align_self": null,
      "border": null,
      "bottom": null,
      "display": null,
      "flex": null,
      "flex_flow": null,
      "grid_area": null,
      "grid_auto_columns": null,
      "grid_auto_flow": null,
      "grid_auto_rows": null,
      "grid_column": null,
      "grid_gap": null,
      "grid_row": null,
      "grid_template_areas": null,
      "grid_template_columns": null,
      "grid_template_rows": null,
      "height": null,
      "justify_content": null,
      "justify_items": null,
      "left": null,
      "margin": null,
      "max_height": null,
      "max_width": null,
      "min_height": null,
      "min_width": null,
      "object_fit": null,
      "object_position": null,
      "order": null,
      "overflow": null,
      "overflow_x": null,
      "overflow_y": null,
      "padding": null,
      "right": null,
      "top": null,
      "visibility": null,
      "width": null
     }
    },
    "3fbd72e58a854b9293e5c5dd939d1aff": {
     "model_module": "@jupyter-widgets/controls",
     "model_module_version": "1.5.0",
     "model_name": "HTMLModel",
     "state": {
      "_dom_classes": [],
      "_model_module": "@jupyter-widgets/controls",
      "_model_module_version": "1.5.0",
      "_model_name": "HTMLModel",
      "_view_count": null,
      "_view_module": "@jupyter-widgets/controls",
      "_view_module_version": "1.5.0",
      "_view_name": "HTMLView",
      "description": "",
      "description_tooltip": null,
      "layout": "IPY_MODEL_20edade49a624299adfc3ce525e71fe0",
      "placeholder": "​",
      "style": "IPY_MODEL_ef64af8bd3de4c9993cc9558a84a3dbf",
      "value": "Map: 100%"
     }
    },
    "406fd3bd544140e5a55bedacc3106afa": {
     "model_module": "@jupyter-widgets/controls",
     "model_module_version": "1.5.0",
     "model_name": "DescriptionStyleModel",
     "state": {
      "_model_module": "@jupyter-widgets/controls",
      "_model_module_version": "1.5.0",
      "_model_name": "DescriptionStyleModel",
      "_view_count": null,
      "_view_module": "@jupyter-widgets/base",
      "_view_module_version": "1.2.0",
      "_view_name": "StyleView",
      "description_width": ""
     }
    },
    "4b7a69fd7d0748bab247f8d9d98d5e2f": {
     "model_module": "@jupyter-widgets/controls",
     "model_module_version": "1.5.0",
     "model_name": "FloatProgressModel",
     "state": {
      "_dom_classes": [],
      "_model_module": "@jupyter-widgets/controls",
      "_model_module_version": "1.5.0",
      "_model_name": "FloatProgressModel",
      "_view_count": null,
      "_view_module": "@jupyter-widgets/controls",
      "_view_module_version": "1.5.0",
      "_view_name": "ProgressView",
      "bar_style": "success",
      "description": "",
      "description_tooltip": null,
      "layout": "IPY_MODEL_b5c09e38cfec4bb4acded737fe643d04",
      "max": 82,
      "min": 0,
      "orientation": "horizontal",
      "style": "IPY_MODEL_7e67adb9393f4f1688442a8b5afe04e2",
      "value": 82
     }
    },
    "4c5bb42c401b4cacbc933c54b2d2b1f3": {
     "model_module": "@jupyter-widgets/controls",
     "model_module_version": "1.5.0",
     "model_name": "HBoxModel",
     "state": {
      "_dom_classes": [],
      "_model_module": "@jupyter-widgets/controls",
      "_model_module_version": "1.5.0",
      "_model_name": "HBoxModel",
      "_view_count": null,
      "_view_module": "@jupyter-widgets/controls",
      "_view_module_version": "1.5.0",
      "_view_name": "HBoxView",
      "box_style": "",
      "children": [
       "IPY_MODEL_0e56ce69307d474b8b6a02aca7aae16c",
       "IPY_MODEL_9e306743131b43b08d56242d391db4d5",
       "IPY_MODEL_633c441d3cd74fb9a24b343ca35702af"
      ],
      "layout": "IPY_MODEL_35255dd077034edb9f4b15c8676524e6"
     }
    },
    "5c79e447070c41d2846415cf71ed944b": {
     "model_module": "@jupyter-widgets/base",
     "model_module_version": "1.2.0",
     "model_name": "LayoutModel",
     "state": {
      "_model_module": "@jupyter-widgets/base",
      "_model_module_version": "1.2.0",
      "_model_name": "LayoutModel",
      "_view_count": null,
      "_view_module": "@jupyter-widgets/base",
      "_view_module_version": "1.2.0",
      "_view_name": "LayoutView",
      "align_content": null,
      "align_items": null,
      "align_self": null,
      "border": null,
      "bottom": null,
      "display": null,
      "flex": null,
      "flex_flow": null,
      "grid_area": null,
      "grid_auto_columns": null,
      "grid_auto_flow": null,
      "grid_auto_rows": null,
      "grid_column": null,
      "grid_gap": null,
      "grid_row": null,
      "grid_template_areas": null,
      "grid_template_columns": null,
      "grid_template_rows": null,
      "height": null,
      "justify_content": null,
      "justify_items": null,
      "left": null,
      "margin": null,
      "max_height": null,
      "max_width": null,
      "min_height": null,
      "min_width": null,
      "object_fit": null,
      "object_position": null,
      "order": null,
      "overflow": null,
      "overflow_x": null,
      "overflow_y": null,
      "padding": null,
      "right": null,
      "top": null,
      "visibility": null,
      "width": null
     }
    },
    "633c441d3cd74fb9a24b343ca35702af": {
     "model_module": "@jupyter-widgets/controls",
     "model_module_version": "1.5.0",
     "model_name": "HTMLModel",
     "state": {
      "_dom_classes": [],
      "_model_module": "@jupyter-widgets/controls",
      "_model_module_version": "1.5.0",
      "_model_name": "HTMLModel",
      "_view_count": null,
      "_view_module": "@jupyter-widgets/controls",
      "_view_module_version": "1.5.0",
      "_view_name": "HTMLView",
      "description": "",
      "description_tooltip": null,
      "layout": "IPY_MODEL_78d3d2a016cc4299a65137816f4b5dcd",
      "placeholder": "​",
      "style": "IPY_MODEL_da7a1716f1ed43df918a7591dbce2b03",
      "value": " 324/324 [00:00&lt;00:00, 1407.03 examples/s]"
     }
    },
    "639ea7e2cd2647d7bde489d11d0f5bba": {
     "model_module": "@jupyter-widgets/controls",
     "model_module_version": "1.5.0",
     "model_name": "ProgressStyleModel",
     "state": {
      "_model_module": "@jupyter-widgets/controls",
      "_model_module_version": "1.5.0",
      "_model_name": "ProgressStyleModel",
      "_view_count": null,
      "_view_module": "@jupyter-widgets/base",
      "_view_module_version": "1.2.0",
      "_view_name": "StyleView",
      "bar_color": null,
      "description_width": ""
     }
    },
    "78d3d2a016cc4299a65137816f4b5dcd": {
     "model_module": "@jupyter-widgets/base",
     "model_module_version": "1.2.0",
     "model_name": "LayoutModel",
     "state": {
      "_model_module": "@jupyter-widgets/base",
      "_model_module_version": "1.2.0",
      "_model_name": "LayoutModel",
      "_view_count": null,
      "_view_module": "@jupyter-widgets/base",
      "_view_module_version": "1.2.0",
      "_view_name": "LayoutView",
      "align_content": null,
      "align_items": null,
      "align_self": null,
      "border": null,
      "bottom": null,
      "display": null,
      "flex": null,
      "flex_flow": null,
      "grid_area": null,
      "grid_auto_columns": null,
      "grid_auto_flow": null,
      "grid_auto_rows": null,
      "grid_column": null,
      "grid_gap": null,
      "grid_row": null,
      "grid_template_areas": null,
      "grid_template_columns": null,
      "grid_template_rows": null,
      "height": null,
      "justify_content": null,
      "justify_items": null,
      "left": null,
      "margin": null,
      "max_height": null,
      "max_width": null,
      "min_height": null,
      "min_width": null,
      "object_fit": null,
      "object_position": null,
      "order": null,
      "overflow": null,
      "overflow_x": null,
      "overflow_y": null,
      "padding": null,
      "right": null,
      "top": null,
      "visibility": null,
      "width": null
     }
    },
    "7adb7ad5c1fe4a5eb42546cf881b3d55": {
     "model_module": "@jupyter-widgets/controls",
     "model_module_version": "1.5.0",
     "model_name": "HBoxModel",
     "state": {
      "_dom_classes": [],
      "_model_module": "@jupyter-widgets/controls",
      "_model_module_version": "1.5.0",
      "_model_name": "HBoxModel",
      "_view_count": null,
      "_view_module": "@jupyter-widgets/controls",
      "_view_module_version": "1.5.0",
      "_view_name": "HBoxView",
      "box_style": "",
      "children": [
       "IPY_MODEL_33811f37cd27439bb4237a6d5b4af800",
       "IPY_MODEL_4b7a69fd7d0748bab247f8d9d98d5e2f",
       "IPY_MODEL_a83a33e7cd1c4c6695fecd7a53c8a22b"
      ],
      "layout": "IPY_MODEL_d3a71976a6ad45f6b4e20803b0a12566"
     }
    },
    "7b23567fd9ff4f16bf9e30989523b25b": {
     "model_module": "@jupyter-widgets/controls",
     "model_module_version": "1.5.0",
     "model_name": "HTMLModel",
     "state": {
      "_dom_classes": [],
      "_model_module": "@jupyter-widgets/controls",
      "_model_module_version": "1.5.0",
      "_model_name": "HTMLModel",
      "_view_count": null,
      "_view_module": "@jupyter-widgets/controls",
      "_view_module_version": "1.5.0",
      "_view_name": "HTMLView",
      "description": "",
      "description_tooltip": null,
      "layout": "IPY_MODEL_3a31d9400af947ce90c3bb6c55108595",
      "placeholder": "​",
      "style": "IPY_MODEL_8c1b1347ff044d60aa89c39be56867a0",
      "value": " 102/102 [00:00&lt;00:00, 1303.65 examples/s]"
     }
    },
    "7d04ea3672ab4e8d8c648c5ef22f01e1": {
     "model_module": "@jupyter-widgets/controls",
     "model_module_version": "1.5.0",
     "model_name": "DescriptionStyleModel",
     "state": {
      "_model_module": "@jupyter-widgets/controls",
      "_model_module_version": "1.5.0",
      "_model_name": "DescriptionStyleModel",
      "_view_count": null,
      "_view_module": "@jupyter-widgets/base",
      "_view_module_version": "1.2.0",
      "_view_name": "StyleView",
      "description_width": ""
     }
    },
    "7e21ebf72fa84d10b140aade6b4a4e1f": {
     "model_module": "@jupyter-widgets/controls",
     "model_module_version": "1.5.0",
     "model_name": "ProgressStyleModel",
     "state": {
      "_model_module": "@jupyter-widgets/controls",
      "_model_module_version": "1.5.0",
      "_model_name": "ProgressStyleModel",
      "_view_count": null,
      "_view_module": "@jupyter-widgets/base",
      "_view_module_version": "1.2.0",
      "_view_name": "StyleView",
      "bar_color": null,
      "description_width": ""
     }
    },
    "7e67adb9393f4f1688442a8b5afe04e2": {
     "model_module": "@jupyter-widgets/controls",
     "model_module_version": "1.5.0",
     "model_name": "ProgressStyleModel",
     "state": {
      "_model_module": "@jupyter-widgets/controls",
      "_model_module_version": "1.5.0",
      "_model_name": "ProgressStyleModel",
      "_view_count": null,
      "_view_module": "@jupyter-widgets/base",
      "_view_module_version": "1.2.0",
      "_view_name": "StyleView",
      "bar_color": null,
      "description_width": ""
     }
    },
    "8c1b1347ff044d60aa89c39be56867a0": {
     "model_module": "@jupyter-widgets/controls",
     "model_module_version": "1.5.0",
     "model_name": "DescriptionStyleModel",
     "state": {
      "_model_module": "@jupyter-widgets/controls",
      "_model_module_version": "1.5.0",
      "_model_name": "DescriptionStyleModel",
      "_view_count": null,
      "_view_module": "@jupyter-widgets/base",
      "_view_module_version": "1.2.0",
      "_view_name": "StyleView",
      "description_width": ""
     }
    },
    "9e2abfcff851494ebbdc6cfefb25b2af": {
     "model_module": "@jupyter-widgets/base",
     "model_module_version": "1.2.0",
     "model_name": "LayoutModel",
     "state": {
      "_model_module": "@jupyter-widgets/base",
      "_model_module_version": "1.2.0",
      "_model_name": "LayoutModel",
      "_view_count": null,
      "_view_module": "@jupyter-widgets/base",
      "_view_module_version": "1.2.0",
      "_view_name": "LayoutView",
      "align_content": null,
      "align_items": null,
      "align_self": null,
      "border": null,
      "bottom": null,
      "display": null,
      "flex": null,
      "flex_flow": null,
      "grid_area": null,
      "grid_auto_columns": null,
      "grid_auto_flow": null,
      "grid_auto_rows": null,
      "grid_column": null,
      "grid_gap": null,
      "grid_row": null,
      "grid_template_areas": null,
      "grid_template_columns": null,
      "grid_template_rows": null,
      "height": null,
      "justify_content": null,
      "justify_items": null,
      "left": null,
      "margin": null,
      "max_height": null,
      "max_width": null,
      "min_height": null,
      "min_width": null,
      "object_fit": null,
      "object_position": null,
      "order": null,
      "overflow": null,
      "overflow_x": null,
      "overflow_y": null,
      "padding": null,
      "right": null,
      "top": null,
      "visibility": null,
      "width": null
     }
    },
    "9e306743131b43b08d56242d391db4d5": {
     "model_module": "@jupyter-widgets/controls",
     "model_module_version": "1.5.0",
     "model_name": "FloatProgressModel",
     "state": {
      "_dom_classes": [],
      "_model_module": "@jupyter-widgets/controls",
      "_model_module_version": "1.5.0",
      "_model_name": "FloatProgressModel",
      "_view_count": null,
      "_view_module": "@jupyter-widgets/controls",
      "_view_module_version": "1.5.0",
      "_view_name": "ProgressView",
      "bar_style": "success",
      "description": "",
      "description_tooltip": null,
      "layout": "IPY_MODEL_5c79e447070c41d2846415cf71ed944b",
      "max": 324,
      "min": 0,
      "orientation": "horizontal",
      "style": "IPY_MODEL_7e21ebf72fa84d10b140aade6b4a4e1f",
      "value": 324
     }
    },
    "a83a33e7cd1c4c6695fecd7a53c8a22b": {
     "model_module": "@jupyter-widgets/controls",
     "model_module_version": "1.5.0",
     "model_name": "HTMLModel",
     "state": {
      "_dom_classes": [],
      "_model_module": "@jupyter-widgets/controls",
      "_model_module_version": "1.5.0",
      "_model_name": "HTMLModel",
      "_view_count": null,
      "_view_module": "@jupyter-widgets/controls",
      "_view_module_version": "1.5.0",
      "_view_name": "HTMLView",
      "description": "",
      "description_tooltip": null,
      "layout": "IPY_MODEL_9e2abfcff851494ebbdc6cfefb25b2af",
      "placeholder": "​",
      "style": "IPY_MODEL_406fd3bd544140e5a55bedacc3106afa",
      "value": " 82/82 [00:00&lt;00:00, 858.94 examples/s]"
     }
    },
    "b5c09e38cfec4bb4acded737fe643d04": {
     "model_module": "@jupyter-widgets/base",
     "model_module_version": "1.2.0",
     "model_name": "LayoutModel",
     "state": {
      "_model_module": "@jupyter-widgets/base",
      "_model_module_version": "1.2.0",
      "_model_name": "LayoutModel",
      "_view_count": null,
      "_view_module": "@jupyter-widgets/base",
      "_view_module_version": "1.2.0",
      "_view_name": "LayoutView",
      "align_content": null,
      "align_items": null,
      "align_self": null,
      "border": null,
      "bottom": null,
      "display": null,
      "flex": null,
      "flex_flow": null,
      "grid_area": null,
      "grid_auto_columns": null,
      "grid_auto_flow": null,
      "grid_auto_rows": null,
      "grid_column": null,
      "grid_gap": null,
      "grid_row": null,
      "grid_template_areas": null,
      "grid_template_columns": null,
      "grid_template_rows": null,
      "height": null,
      "justify_content": null,
      "justify_items": null,
      "left": null,
      "margin": null,
      "max_height": null,
      "max_width": null,
      "min_height": null,
      "min_width": null,
      "object_fit": null,
      "object_position": null,
      "order": null,
      "overflow": null,
      "overflow_x": null,
      "overflow_y": null,
      "padding": null,
      "right": null,
      "top": null,
      "visibility": null,
      "width": null
     }
    },
    "c622795a3e7a42079b5b970160ad27f2": {
     "model_module": "@jupyter-widgets/controls",
     "model_module_version": "1.5.0",
     "model_name": "DescriptionStyleModel",
     "state": {
      "_model_module": "@jupyter-widgets/controls",
      "_model_module_version": "1.5.0",
      "_model_name": "DescriptionStyleModel",
      "_view_count": null,
      "_view_module": "@jupyter-widgets/base",
      "_view_module_version": "1.2.0",
      "_view_name": "StyleView",
      "description_width": ""
     }
    },
    "d3a71976a6ad45f6b4e20803b0a12566": {
     "model_module": "@jupyter-widgets/base",
     "model_module_version": "1.2.0",
     "model_name": "LayoutModel",
     "state": {
      "_model_module": "@jupyter-widgets/base",
      "_model_module_version": "1.2.0",
      "_model_name": "LayoutModel",
      "_view_count": null,
      "_view_module": "@jupyter-widgets/base",
      "_view_module_version": "1.2.0",
      "_view_name": "LayoutView",
      "align_content": null,
      "align_items": null,
      "align_self": null,
      "border": null,
      "bottom": null,
      "display": null,
      "flex": null,
      "flex_flow": null,
      "grid_area": null,
      "grid_auto_columns": null,
      "grid_auto_flow": null,
      "grid_auto_rows": null,
      "grid_column": null,
      "grid_gap": null,
      "grid_row": null,
      "grid_template_areas": null,
      "grid_template_columns": null,
      "grid_template_rows": null,
      "height": null,
      "justify_content": null,
      "justify_items": null,
      "left": null,
      "margin": null,
      "max_height": null,
      "max_width": null,
      "min_height": null,
      "min_width": null,
      "object_fit": null,
      "object_position": null,
      "order": null,
      "overflow": null,
      "overflow_x": null,
      "overflow_y": null,
      "padding": null,
      "right": null,
      "top": null,
      "visibility": null,
      "width": null
     }
    },
    "da7a1716f1ed43df918a7591dbce2b03": {
     "model_module": "@jupyter-widgets/controls",
     "model_module_version": "1.5.0",
     "model_name": "DescriptionStyleModel",
     "state": {
      "_model_module": "@jupyter-widgets/controls",
      "_model_module_version": "1.5.0",
      "_model_name": "DescriptionStyleModel",
      "_view_count": null,
      "_view_module": "@jupyter-widgets/base",
      "_view_module_version": "1.2.0",
      "_view_name": "StyleView",
      "description_width": ""
     }
    },
    "e2a813e590094bd891682d9daa82dcf2": {
     "model_module": "@jupyter-widgets/base",
     "model_module_version": "1.2.0",
     "model_name": "LayoutModel",
     "state": {
      "_model_module": "@jupyter-widgets/base",
      "_model_module_version": "1.2.0",
      "_model_name": "LayoutModel",
      "_view_count": null,
      "_view_module": "@jupyter-widgets/base",
      "_view_module_version": "1.2.0",
      "_view_name": "LayoutView",
      "align_content": null,
      "align_items": null,
      "align_self": null,
      "border": null,
      "bottom": null,
      "display": null,
      "flex": null,
      "flex_flow": null,
      "grid_area": null,
      "grid_auto_columns": null,
      "grid_auto_flow": null,
      "grid_auto_rows": null,
      "grid_column": null,
      "grid_gap": null,
      "grid_row": null,
      "grid_template_areas": null,
      "grid_template_columns": null,
      "grid_template_rows": null,
      "height": null,
      "justify_content": null,
      "justify_items": null,
      "left": null,
      "margin": null,
      "max_height": null,
      "max_width": null,
      "min_height": null,
      "min_width": null,
      "object_fit": null,
      "object_position": null,
      "order": null,
      "overflow": null,
      "overflow_x": null,
      "overflow_y": null,
      "padding": null,
      "right": null,
      "top": null,
      "visibility": null,
      "width": null
     }
    },
    "ef64af8bd3de4c9993cc9558a84a3dbf": {
     "model_module": "@jupyter-widgets/controls",
     "model_module_version": "1.5.0",
     "model_name": "DescriptionStyleModel",
     "state": {
      "_model_module": "@jupyter-widgets/controls",
      "_model_module_version": "1.5.0",
      "_model_name": "DescriptionStyleModel",
      "_view_count": null,
      "_view_module": "@jupyter-widgets/base",
      "_view_module_version": "1.2.0",
      "_view_name": "StyleView",
      "description_width": ""
     }
    }
   }
  }
 },
 "nbformat": 4,
 "nbformat_minor": 0
}
